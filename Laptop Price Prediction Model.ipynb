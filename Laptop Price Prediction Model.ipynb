{
 "cells": [
  {
   "cell_type": "code",
   "execution_count": 1,
   "id": "e4fa648a-aff7-4dc0-9245-dea0d7e7970b",
   "metadata": {},
   "outputs": [],
   "source": [
    "import numpy as np\n",
    "import pandas as pd\n",
    "import seaborn as sns\n",
    "import matplotlib.pyplot as plt"
   ]
  },
  {
   "cell_type": "code",
   "execution_count": 2,
   "id": "b3d97cb2-2202-45b6-8280-6733b546cab8",
   "metadata": {},
   "outputs": [],
   "source": [
    "df = pd.read_csv('laptop_data.csv')"
   ]
  },
  {
   "cell_type": "code",
   "execution_count": 3,
   "id": "68f221ec-002b-43f8-8334-05a850e0e3e3",
   "metadata": {},
   "outputs": [
    {
     "data": {
      "text/html": [
       "<div>\n",
       "<style scoped>\n",
       "    .dataframe tbody tr th:only-of-type {\n",
       "        vertical-align: middle;\n",
       "    }\n",
       "\n",
       "    .dataframe tbody tr th {\n",
       "        vertical-align: top;\n",
       "    }\n",
       "\n",
       "    .dataframe thead th {\n",
       "        text-align: right;\n",
       "    }\n",
       "</style>\n",
       "<table border=\"1\" class=\"dataframe\">\n",
       "  <thead>\n",
       "    <tr style=\"text-align: right;\">\n",
       "      <th></th>\n",
       "      <th>Unnamed: 0</th>\n",
       "      <th>Company</th>\n",
       "      <th>TypeName</th>\n",
       "      <th>Inches</th>\n",
       "      <th>ScreenResolution</th>\n",
       "      <th>Cpu</th>\n",
       "      <th>Ram</th>\n",
       "      <th>Memory</th>\n",
       "      <th>Gpu</th>\n",
       "      <th>OpSys</th>\n",
       "      <th>Weight</th>\n",
       "      <th>Price</th>\n",
       "    </tr>\n",
       "  </thead>\n",
       "  <tbody>\n",
       "    <tr>\n",
       "      <th>0</th>\n",
       "      <td>0</td>\n",
       "      <td>Apple</td>\n",
       "      <td>Ultrabook</td>\n",
       "      <td>13.3</td>\n",
       "      <td>IPS Panel Retina Display 2560x1600</td>\n",
       "      <td>Intel Core i5 2.3GHz</td>\n",
       "      <td>8GB</td>\n",
       "      <td>128GB SSD</td>\n",
       "      <td>Intel Iris Plus Graphics 640</td>\n",
       "      <td>macOS</td>\n",
       "      <td>1.37kg</td>\n",
       "      <td>71378.6832</td>\n",
       "    </tr>\n",
       "    <tr>\n",
       "      <th>1</th>\n",
       "      <td>1</td>\n",
       "      <td>Apple</td>\n",
       "      <td>Ultrabook</td>\n",
       "      <td>13.3</td>\n",
       "      <td>1440x900</td>\n",
       "      <td>Intel Core i5 1.8GHz</td>\n",
       "      <td>8GB</td>\n",
       "      <td>128GB Flash Storage</td>\n",
       "      <td>Intel HD Graphics 6000</td>\n",
       "      <td>macOS</td>\n",
       "      <td>1.34kg</td>\n",
       "      <td>47895.5232</td>\n",
       "    </tr>\n",
       "    <tr>\n",
       "      <th>2</th>\n",
       "      <td>2</td>\n",
       "      <td>HP</td>\n",
       "      <td>Notebook</td>\n",
       "      <td>15.6</td>\n",
       "      <td>Full HD 1920x1080</td>\n",
       "      <td>Intel Core i5 7200U 2.5GHz</td>\n",
       "      <td>8GB</td>\n",
       "      <td>256GB SSD</td>\n",
       "      <td>Intel HD Graphics 620</td>\n",
       "      <td>No OS</td>\n",
       "      <td>1.86kg</td>\n",
       "      <td>30636.0000</td>\n",
       "    </tr>\n",
       "    <tr>\n",
       "      <th>3</th>\n",
       "      <td>3</td>\n",
       "      <td>Apple</td>\n",
       "      <td>Ultrabook</td>\n",
       "      <td>15.4</td>\n",
       "      <td>IPS Panel Retina Display 2880x1800</td>\n",
       "      <td>Intel Core i7 2.7GHz</td>\n",
       "      <td>16GB</td>\n",
       "      <td>512GB SSD</td>\n",
       "      <td>AMD Radeon Pro 455</td>\n",
       "      <td>macOS</td>\n",
       "      <td>1.83kg</td>\n",
       "      <td>135195.3360</td>\n",
       "    </tr>\n",
       "    <tr>\n",
       "      <th>4</th>\n",
       "      <td>4</td>\n",
       "      <td>Apple</td>\n",
       "      <td>Ultrabook</td>\n",
       "      <td>13.3</td>\n",
       "      <td>IPS Panel Retina Display 2560x1600</td>\n",
       "      <td>Intel Core i5 3.1GHz</td>\n",
       "      <td>8GB</td>\n",
       "      <td>256GB SSD</td>\n",
       "      <td>Intel Iris Plus Graphics 650</td>\n",
       "      <td>macOS</td>\n",
       "      <td>1.37kg</td>\n",
       "      <td>96095.8080</td>\n",
       "    </tr>\n",
       "  </tbody>\n",
       "</table>\n",
       "</div>"
      ],
      "text/plain": [
       "   Unnamed: 0 Company   TypeName  Inches                    ScreenResolution  \\\n",
       "0           0   Apple  Ultrabook    13.3  IPS Panel Retina Display 2560x1600   \n",
       "1           1   Apple  Ultrabook    13.3                            1440x900   \n",
       "2           2      HP   Notebook    15.6                   Full HD 1920x1080   \n",
       "3           3   Apple  Ultrabook    15.4  IPS Panel Retina Display 2880x1800   \n",
       "4           4   Apple  Ultrabook    13.3  IPS Panel Retina Display 2560x1600   \n",
       "\n",
       "                          Cpu   Ram               Memory  \\\n",
       "0        Intel Core i5 2.3GHz   8GB            128GB SSD   \n",
       "1        Intel Core i5 1.8GHz   8GB  128GB Flash Storage   \n",
       "2  Intel Core i5 7200U 2.5GHz   8GB            256GB SSD   \n",
       "3        Intel Core i7 2.7GHz  16GB            512GB SSD   \n",
       "4        Intel Core i5 3.1GHz   8GB            256GB SSD   \n",
       "\n",
       "                            Gpu  OpSys  Weight        Price  \n",
       "0  Intel Iris Plus Graphics 640  macOS  1.37kg   71378.6832  \n",
       "1        Intel HD Graphics 6000  macOS  1.34kg   47895.5232  \n",
       "2         Intel HD Graphics 620  No OS  1.86kg   30636.0000  \n",
       "3            AMD Radeon Pro 455  macOS  1.83kg  135195.3360  \n",
       "4  Intel Iris Plus Graphics 650  macOS  1.37kg   96095.8080  "
      ]
     },
     "execution_count": 3,
     "metadata": {},
     "output_type": "execute_result"
    }
   ],
   "source": [
    "df.head()"
   ]
  },
  {
   "cell_type": "code",
   "execution_count": 4,
   "id": "76141098-41ed-4935-ab12-f496e4aa42be",
   "metadata": {},
   "outputs": [
    {
     "data": {
      "text/plain": [
       "(1303, 12)"
      ]
     },
     "execution_count": 4,
     "metadata": {},
     "output_type": "execute_result"
    }
   ],
   "source": [
    "df.shape"
   ]
  },
  {
   "cell_type": "code",
   "execution_count": 5,
   "id": "f9206096-490d-4aa6-aef4-33b98897796f",
   "metadata": {},
   "outputs": [
    {
     "name": "stdout",
     "output_type": "stream",
     "text": [
      "<class 'pandas.core.frame.DataFrame'>\n",
      "RangeIndex: 1303 entries, 0 to 1302\n",
      "Data columns (total 12 columns):\n",
      " #   Column            Non-Null Count  Dtype  \n",
      "---  ------            --------------  -----  \n",
      " 0   Unnamed: 0        1303 non-null   int64  \n",
      " 1   Company           1303 non-null   object \n",
      " 2   TypeName          1303 non-null   object \n",
      " 3   Inches            1303 non-null   float64\n",
      " 4   ScreenResolution  1303 non-null   object \n",
      " 5   Cpu               1303 non-null   object \n",
      " 6   Ram               1303 non-null   object \n",
      " 7   Memory            1303 non-null   object \n",
      " 8   Gpu               1303 non-null   object \n",
      " 9   OpSys             1303 non-null   object \n",
      " 10  Weight            1303 non-null   object \n",
      " 11  Price             1303 non-null   float64\n",
      "dtypes: float64(2), int64(1), object(9)\n",
      "memory usage: 122.3+ KB\n"
     ]
    }
   ],
   "source": [
    "df.info()"
   ]
  },
  {
   "cell_type": "markdown",
   "id": "e2f2d8fd-d0cc-4428-9317-b7726a97d328",
   "metadata": {},
   "source": [
    "# Data Cleaning"
   ]
  },
  {
   "cell_type": "markdown",
   "id": "0e291071-ea27-4360-9c45-136e39872f88",
   "metadata": {},
   "source": [
    "### Checking for duplicated values"
   ]
  },
  {
   "cell_type": "code",
   "execution_count": 6,
   "id": "509e974a-0dc2-4fd6-ad1c-4cc00bdb5b49",
   "metadata": {},
   "outputs": [
    {
     "data": {
      "text/plain": [
       "np.int64(0)"
      ]
     },
     "execution_count": 6,
     "metadata": {},
     "output_type": "execute_result"
    }
   ],
   "source": [
    "df.duplicated().sum()"
   ]
  },
  {
   "cell_type": "markdown",
   "id": "bbab9c34-d3fa-4ccc-a0c1-8d927ef24ff9",
   "metadata": {},
   "source": [
    "### Checking for missing values"
   ]
  },
  {
   "cell_type": "code",
   "execution_count": 7,
   "id": "cb987104-63fa-4166-be3a-9671cc125c0a",
   "metadata": {},
   "outputs": [
    {
     "data": {
      "text/plain": [
       "Unnamed: 0          0\n",
       "Company             0\n",
       "TypeName            0\n",
       "Inches              0\n",
       "ScreenResolution    0\n",
       "Cpu                 0\n",
       "Ram                 0\n",
       "Memory              0\n",
       "Gpu                 0\n",
       "OpSys               0\n",
       "Weight              0\n",
       "Price               0\n",
       "dtype: int64"
      ]
     },
     "execution_count": 7,
     "metadata": {},
     "output_type": "execute_result"
    }
   ],
   "source": [
    "df.isnull().sum()"
   ]
  },
  {
   "cell_type": "markdown",
   "id": "05e98ebb-8ac9-4504-a3b9-ecf01adff07e",
   "metadata": {},
   "source": [
    "We can the drop the first column unamed"
   ]
  },
  {
   "cell_type": "code",
   "execution_count": 8,
   "id": "eab2f647-d372-4cfb-8371-df633032ced7",
   "metadata": {},
   "outputs": [],
   "source": [
    "df.drop(columns=['Unnamed: 0'],inplace=True)"
   ]
  },
  {
   "cell_type": "code",
   "execution_count": 9,
   "id": "a44b27ac-6b83-48de-ae31-9dbb31b132b1",
   "metadata": {},
   "outputs": [
    {
     "data": {
      "text/html": [
       "<div>\n",
       "<style scoped>\n",
       "    .dataframe tbody tr th:only-of-type {\n",
       "        vertical-align: middle;\n",
       "    }\n",
       "\n",
       "    .dataframe tbody tr th {\n",
       "        vertical-align: top;\n",
       "    }\n",
       "\n",
       "    .dataframe thead th {\n",
       "        text-align: right;\n",
       "    }\n",
       "</style>\n",
       "<table border=\"1\" class=\"dataframe\">\n",
       "  <thead>\n",
       "    <tr style=\"text-align: right;\">\n",
       "      <th></th>\n",
       "      <th>Company</th>\n",
       "      <th>TypeName</th>\n",
       "      <th>Inches</th>\n",
       "      <th>ScreenResolution</th>\n",
       "      <th>Cpu</th>\n",
       "      <th>Ram</th>\n",
       "      <th>Memory</th>\n",
       "      <th>Gpu</th>\n",
       "      <th>OpSys</th>\n",
       "      <th>Weight</th>\n",
       "      <th>Price</th>\n",
       "    </tr>\n",
       "  </thead>\n",
       "  <tbody>\n",
       "    <tr>\n",
       "      <th>0</th>\n",
       "      <td>Apple</td>\n",
       "      <td>Ultrabook</td>\n",
       "      <td>13.3</td>\n",
       "      <td>IPS Panel Retina Display 2560x1600</td>\n",
       "      <td>Intel Core i5 2.3GHz</td>\n",
       "      <td>8GB</td>\n",
       "      <td>128GB SSD</td>\n",
       "      <td>Intel Iris Plus Graphics 640</td>\n",
       "      <td>macOS</td>\n",
       "      <td>1.37kg</td>\n",
       "      <td>71378.6832</td>\n",
       "    </tr>\n",
       "    <tr>\n",
       "      <th>1</th>\n",
       "      <td>Apple</td>\n",
       "      <td>Ultrabook</td>\n",
       "      <td>13.3</td>\n",
       "      <td>1440x900</td>\n",
       "      <td>Intel Core i5 1.8GHz</td>\n",
       "      <td>8GB</td>\n",
       "      <td>128GB Flash Storage</td>\n",
       "      <td>Intel HD Graphics 6000</td>\n",
       "      <td>macOS</td>\n",
       "      <td>1.34kg</td>\n",
       "      <td>47895.5232</td>\n",
       "    </tr>\n",
       "    <tr>\n",
       "      <th>2</th>\n",
       "      <td>HP</td>\n",
       "      <td>Notebook</td>\n",
       "      <td>15.6</td>\n",
       "      <td>Full HD 1920x1080</td>\n",
       "      <td>Intel Core i5 7200U 2.5GHz</td>\n",
       "      <td>8GB</td>\n",
       "      <td>256GB SSD</td>\n",
       "      <td>Intel HD Graphics 620</td>\n",
       "      <td>No OS</td>\n",
       "      <td>1.86kg</td>\n",
       "      <td>30636.0000</td>\n",
       "    </tr>\n",
       "    <tr>\n",
       "      <th>3</th>\n",
       "      <td>Apple</td>\n",
       "      <td>Ultrabook</td>\n",
       "      <td>15.4</td>\n",
       "      <td>IPS Panel Retina Display 2880x1800</td>\n",
       "      <td>Intel Core i7 2.7GHz</td>\n",
       "      <td>16GB</td>\n",
       "      <td>512GB SSD</td>\n",
       "      <td>AMD Radeon Pro 455</td>\n",
       "      <td>macOS</td>\n",
       "      <td>1.83kg</td>\n",
       "      <td>135195.3360</td>\n",
       "    </tr>\n",
       "    <tr>\n",
       "      <th>4</th>\n",
       "      <td>Apple</td>\n",
       "      <td>Ultrabook</td>\n",
       "      <td>13.3</td>\n",
       "      <td>IPS Panel Retina Display 2560x1600</td>\n",
       "      <td>Intel Core i5 3.1GHz</td>\n",
       "      <td>8GB</td>\n",
       "      <td>256GB SSD</td>\n",
       "      <td>Intel Iris Plus Graphics 650</td>\n",
       "      <td>macOS</td>\n",
       "      <td>1.37kg</td>\n",
       "      <td>96095.8080</td>\n",
       "    </tr>\n",
       "  </tbody>\n",
       "</table>\n",
       "</div>"
      ],
      "text/plain": [
       "  Company   TypeName  Inches                    ScreenResolution  \\\n",
       "0   Apple  Ultrabook    13.3  IPS Panel Retina Display 2560x1600   \n",
       "1   Apple  Ultrabook    13.3                            1440x900   \n",
       "2      HP   Notebook    15.6                   Full HD 1920x1080   \n",
       "3   Apple  Ultrabook    15.4  IPS Panel Retina Display 2880x1800   \n",
       "4   Apple  Ultrabook    13.3  IPS Panel Retina Display 2560x1600   \n",
       "\n",
       "                          Cpu   Ram               Memory  \\\n",
       "0        Intel Core i5 2.3GHz   8GB            128GB SSD   \n",
       "1        Intel Core i5 1.8GHz   8GB  128GB Flash Storage   \n",
       "2  Intel Core i5 7200U 2.5GHz   8GB            256GB SSD   \n",
       "3        Intel Core i7 2.7GHz  16GB            512GB SSD   \n",
       "4        Intel Core i5 3.1GHz   8GB            256GB SSD   \n",
       "\n",
       "                            Gpu  OpSys  Weight        Price  \n",
       "0  Intel Iris Plus Graphics 640  macOS  1.37kg   71378.6832  \n",
       "1        Intel HD Graphics 6000  macOS  1.34kg   47895.5232  \n",
       "2         Intel HD Graphics 620  No OS  1.86kg   30636.0000  \n",
       "3            AMD Radeon Pro 455  macOS  1.83kg  135195.3360  \n",
       "4  Intel Iris Plus Graphics 650  macOS  1.37kg   96095.8080  "
      ]
     },
     "execution_count": 9,
     "metadata": {},
     "output_type": "execute_result"
    }
   ],
   "source": [
    "df.head()"
   ]
  },
  {
   "cell_type": "markdown",
   "id": "26546473-bf8a-43ea-a829-305648dff104",
   "metadata": {},
   "source": [
    "We can convert the \"RAM\" and \"Weight\" columns into numerical columns by removing the \"GB\" and \"KG\" units"
   ]
  },
  {
   "cell_type": "code",
   "execution_count": 10,
   "id": "d3ed41fc-4864-410f-a28c-93ec5367fafd",
   "metadata": {},
   "outputs": [],
   "source": [
    "df['Ram'] = df['Ram'].str.replace('GB','')\n",
    "df['Weight'] = df['Weight'].str.replace('kg','')"
   ]
  },
  {
   "cell_type": "code",
   "execution_count": 11,
   "id": "878bb3d4-5f44-4a90-95cf-0fe3ed00b77b",
   "metadata": {},
   "outputs": [],
   "source": [
    "df['Ram'] = df['Ram'].astype('int32')\n",
    "df['Weight'] = df['Weight'].astype('float32')"
   ]
  },
  {
   "cell_type": "markdown",
   "id": "5f8c4e3e-1551-4ccb-9c15-0d76e1999c17",
   "metadata": {},
   "source": [
    "# EDA"
   ]
  },
  {
   "cell_type": "markdown",
   "id": "b430bc77-f107-4016-9dc0-8f72de99d7a2",
   "metadata": {},
   "source": [
    "## Statistical Summary"
   ]
  },
  {
   "cell_type": "code",
   "execution_count": 12,
   "id": "c9e0f889-bd62-4742-b5c3-0e49226c56a4",
   "metadata": {},
   "outputs": [
    {
     "data": {
      "text/html": [
       "<div>\n",
       "<style scoped>\n",
       "    .dataframe tbody tr th:only-of-type {\n",
       "        vertical-align: middle;\n",
       "    }\n",
       "\n",
       "    .dataframe tbody tr th {\n",
       "        vertical-align: top;\n",
       "    }\n",
       "\n",
       "    .dataframe thead th {\n",
       "        text-align: right;\n",
       "    }\n",
       "</style>\n",
       "<table border=\"1\" class=\"dataframe\">\n",
       "  <thead>\n",
       "    <tr style=\"text-align: right;\">\n",
       "      <th></th>\n",
       "      <th>Inches</th>\n",
       "      <th>Ram</th>\n",
       "      <th>Weight</th>\n",
       "      <th>Price</th>\n",
       "    </tr>\n",
       "  </thead>\n",
       "  <tbody>\n",
       "    <tr>\n",
       "      <th>count</th>\n",
       "      <td>1303.000000</td>\n",
       "      <td>1303.000000</td>\n",
       "      <td>1303.000000</td>\n",
       "      <td>1303.000000</td>\n",
       "    </tr>\n",
       "    <tr>\n",
       "      <th>mean</th>\n",
       "      <td>15.017191</td>\n",
       "      <td>8.382195</td>\n",
       "      <td>2.038734</td>\n",
       "      <td>59870.042910</td>\n",
       "    </tr>\n",
       "    <tr>\n",
       "      <th>std</th>\n",
       "      <td>1.426304</td>\n",
       "      <td>5.084665</td>\n",
       "      <td>0.665475</td>\n",
       "      <td>37243.201786</td>\n",
       "    </tr>\n",
       "    <tr>\n",
       "      <th>min</th>\n",
       "      <td>10.100000</td>\n",
       "      <td>2.000000</td>\n",
       "      <td>0.690000</td>\n",
       "      <td>9270.720000</td>\n",
       "    </tr>\n",
       "    <tr>\n",
       "      <th>25%</th>\n",
       "      <td>14.000000</td>\n",
       "      <td>4.000000</td>\n",
       "      <td>1.500000</td>\n",
       "      <td>31914.720000</td>\n",
       "    </tr>\n",
       "    <tr>\n",
       "      <th>50%</th>\n",
       "      <td>15.600000</td>\n",
       "      <td>8.000000</td>\n",
       "      <td>2.040000</td>\n",
       "      <td>52054.560000</td>\n",
       "    </tr>\n",
       "    <tr>\n",
       "      <th>75%</th>\n",
       "      <td>15.600000</td>\n",
       "      <td>8.000000</td>\n",
       "      <td>2.300000</td>\n",
       "      <td>79274.246400</td>\n",
       "    </tr>\n",
       "    <tr>\n",
       "      <th>max</th>\n",
       "      <td>18.400000</td>\n",
       "      <td>64.000000</td>\n",
       "      <td>4.700000</td>\n",
       "      <td>324954.720000</td>\n",
       "    </tr>\n",
       "  </tbody>\n",
       "</table>\n",
       "</div>"
      ],
      "text/plain": [
       "            Inches          Ram       Weight          Price\n",
       "count  1303.000000  1303.000000  1303.000000    1303.000000\n",
       "mean     15.017191     8.382195     2.038734   59870.042910\n",
       "std       1.426304     5.084665     0.665475   37243.201786\n",
       "min      10.100000     2.000000     0.690000    9270.720000\n",
       "25%      14.000000     4.000000     1.500000   31914.720000\n",
       "50%      15.600000     8.000000     2.040000   52054.560000\n",
       "75%      15.600000     8.000000     2.300000   79274.246400\n",
       "max      18.400000    64.000000     4.700000  324954.720000"
      ]
     },
     "execution_count": 12,
     "metadata": {},
     "output_type": "execute_result"
    }
   ],
   "source": [
    "df.describe()"
   ]
  },
  {
   "cell_type": "markdown",
   "id": "77e67126-9a21-4515-a501-6e7caa315b39",
   "metadata": {},
   "source": [
    "Most laptops seem to be equipped with 8GB RAM, which is considered the standard for general-purpose laptops. However, there are high-end laptops with up to 64GB RAM.\n",
    "\n",
    "The dataset includes both ultrabooks and heavier laptops, with a significant portion being lightweight (around 2kg or less), which could imply a focus on portability.\n",
    "\n",
    "The dataset includes a variety of laptops from budget-friendly to high-end models. The high maximum price suggests the presence of premium or specialized laptops."
   ]
  },
  {
   "cell_type": "markdown",
   "id": "4eefb2bb-d757-4d63-949b-e739bf6e5703",
   "metadata": {},
   "source": [
    "## Univariate Analysis"
   ]
  },
  {
   "cell_type": "code",
   "execution_count": 13,
   "id": "5fa87a61-6782-4929-ba01-e5d688bd7746",
   "metadata": {},
   "outputs": [
    {
     "data": {
      "text/plain": [
       "<Axes: xlabel='Company'>"
      ]
     },
     "execution_count": 13,
     "metadata": {},
     "output_type": "execute_result"
    },
    {
     "data": {
      "image/png": "[encoded data removed]",
      "text/plain": [
       "<Figure size 640x480 with 1 Axes>"
      ]
     },
     "metadata": {},
     "output_type": "display_data"
    }
   ],
   "source": [
    "df['Company'].value_counts().plot(kind='bar')"
   ]
  },
  {
   "cell_type": "code",
   "execution_count": 14,
   "id": "e66eb2ea-f5bd-418f-9ffc-c825662b367d",
   "metadata": {},
   "outputs": [
    {
     "data": {
      "text/plain": [
       "<Axes: xlabel='TypeName'>"
      ]
     },
     "execution_count": 14,
     "metadata": {},
     "output_type": "execute_result"
    },
    {
     "data": {
      "image/png": "[encoded data removed]",
      "text/plain": [
       "<Figure size 640x480 with 1 Axes>"
      ]
     },
     "metadata": {},
     "output_type": "display_data"
    }
   ],
   "source": [
    "df['TypeName'].value_counts().plot(kind='bar')"
   ]
  },
  {
   "cell_type": "code",
   "execution_count": 15,
   "id": "33f6870e-1b02-4742-8bf6-e21d6846b6f1",
   "metadata": {},
   "outputs": [
    {
     "data": {
      "text/plain": [
       "<Axes: xlabel='OpSys'>"
      ]
     },
     "execution_count": 15,
     "metadata": {},
     "output_type": "execute_result"
    },
    {
     "data": {
      "image/png": "[encoded data removed]",
      "text/plain": [
       "<Figure size 640x480 with 1 Axes>"
      ]
     },
     "metadata": {},
     "output_type": "display_data"
    }
   ],
   "source": [
    "df['OpSys'].value_counts().plot(kind='bar')\n"
   ]
  },
  {
   "cell_type": "code",
   "execution_count": 16,
   "id": "07d325cb-eefc-4265-9a54-21564fb0a252",
   "metadata": {},
   "outputs": [
    {
     "data": {
      "image/png": "[encoded data removed]",
      "text/plain": [
       "<Figure size 1000x1500 with 4 Axes>"
      ]
     },
     "metadata": {},
     "output_type": "display_data"
    }
   ],
   "source": [
    "# List of continuous variables\n",
    "continuous_vars = ['Inches', 'Ram','Weight', 'Price']\n",
    "\n",
    "# Set up the matplotlib figure\n",
    "plt.figure(figsize=(10, 15))\n",
    "\n",
    "# Plot Histograms\n",
    "for i, var in enumerate(continuous_vars):\n",
    "    plt.subplot(5, 2, 2*i + 1)\n",
    "    sns.histplot(df[var], kde=True)\n",
    "    plt.title(f'Histogram of {var}')\n",
    "    plt.xlabel(var)\n",
    "    plt.ylabel('Frequency')\n",
    "\n",
    "plt.tight_layout()\n",
    "plt.show()\n"
   ]
  },
  {
   "cell_type": "markdown",
   "id": "158a51a5-172e-4271-a5f5-9e5c5fb30a4e",
   "metadata": {},
   "source": [
    "**Inches:**  Notable peaks around 13, 15, and 17 inches suggest these are popular screen sizes, with 15 inches being particularly common.\n",
    "\n",
    "**RAM:**   Significant peaks at 4GB, 8GB, and 16GB, indicating these are the standard RAM sizes in the market.here is a right skew, meaning higher RAM options like 32GB and 64GB are less common.Higher RAM configurations are likely found in premium or high-performance laptops, whereas 4GB and 8GB configurations cater to budget or mid-range devices.\n",
    "\n",
    "**Weight** The majority of laptops weigh between 1.5kg and 2.5kg, with a peak around 2kg.The slight skew indicates that most laptops are designed to be lightweight and portable, but there are some heavier models, likely due to larger screens or additional features\n",
    "\n",
    "**Price** There is a high concentration of laptops in the lower to mid-price range (below 1 lakh), with fewer models in the premium range.The skew suggests that while the majority of laptops are affordable and cater to a mass market, there is also a niche market for high-end, expensive laptops\n"
   ]
  },
  {
   "cell_type": "markdown",
   "id": "7c707726-4dd5-4314-b9ba-a032dae85f09",
   "metadata": {},
   "source": [
    "## Bivariate Analysis"
   ]
  },
  {
   "cell_type": "code",
   "execution_count": 17,
   "id": "75b85713-e8bb-44c0-951c-84e8ac90da91",
   "metadata": {},
   "outputs": [
    {
     "data": {
      "image/png": "[encoded data removed]",
      "text/plain": [
       "<Figure size 1000x400 with 1 Axes>"
      ]
     },
     "metadata": {},
     "output_type": "display_data"
    }
   ],
   "source": [
    "plt.figure(figsize=(10, 4))\n",
    "sns.boxplot(data=df, x='Company', y='Price')\n",
    "plt.xticks(rotation=45)\n",
    "plt.title('Box Plot of Price by Company')\n",
    "plt.show()"
   ]
  },
  {
   "cell_type": "markdown",
   "id": "2fad19ef-6301-494a-9ce4-be83de6de291",
   "metadata": {},
   "source": [
    "**Apple:** Apple laptops have a higher median price compared to most other companies, with a relatively narrow IQR. This indicates that Apple's pricing is generally high and consistent across its models.\n",
    "\n",
    "**HP, Dell, Lenovo:** These companies have a moderate median price with wider IQRs, suggesting a diverse range of laptop prices. This likely reflects a variety of models ranging from budget to premium.\n",
    "\n",
    "**Razer:** Razer shows the highest median price, with a very wide IQR, indicating that Razer laptops are generally expensive, but there is significant variability, possibly due to different models targeting both high-end gaming and more affordable segments.\n",
    "\n",
    "**Acer:** Acer has a lower median price with a narrower IQR, suggesting that Acer primarily targets the budget and mid-range market segments with less variability in pricing.\n",
    "\n",
    "**Chuwi and Vero:** These companies show the lowest median prices with minimal variability, indicating they primarily offer budget-friendly laptops.\n",
    "\n",
    "\n",
    "* Razer's wide IQR and outliers suggest a strategy of catering to different consumer segments, from high-end gaming enthusiasts to more affordable gaming options.\n",
    "\n",
    "* Apple maintains consistent high pricing with fewer outliers, reflecting its brand positioning as a premium manufacturer.\n",
    "\n",
    "* Companies like Vero and Chuwi focus on the lower end of the market with minimal price variation, potentially indicating a strategy of offering affordable, entry-level laptops."
   ]
  },
  {
   "cell_type": "code",
   "execution_count": 18,
   "id": "9a82e080-73ba-41c9-8fd4-3b29a1688cec",
   "metadata": {},
   "outputs": [
    {
     "data": {
      "image/png": "[encoded data removed]",
      "text/plain": [
       "<Figure size 1000x400 with 1 Axes>"
      ]
     },
     "metadata": {},
     "output_type": "display_data"
    }
   ],
   "source": [
    "plt.figure(figsize=(10, 4))\n",
    "sns.boxplot(data=df, x='TypeName', y='Price')\n",
    "plt.xticks(rotation=45)\n",
    "plt.title('Box Plot of Price by TypeName')\n",
    "plt.show()"
   ]
  },
  {
   "cell_type": "markdown",
   "id": "16efc6dd-6a34-447c-a4f8-722b40f123d7",
   "metadata": {},
   "source": [
    "**Ultrabook:** Ultrabooks have a relatively high median price, with a moderately wide IQR. This suggests that Ultrabooks are generally priced higher, likely due to their premium build, portability, and performance.\n",
    "\n",
    "**Notebook:** Notebooks show a lower median price with a wide IQR, indicating a diverse range of prices. This reflects the broad market coverage of notebooks, from budget models to high-end ones.\n",
    "\n",
    "**Netbook:** Netbooks have the lowest median price with a narrow IQR, indicating that they are typically budget-friendly and have little price variation. This makes sense as netbooks are designed to be low-cost, lightweight laptops with minimal features.\n",
    "\n",
    "**Gaming:** Gaming laptops have one of the highest median prices and a wide IQR. This reflects the premium nature of gaming laptops, which require powerful hardware and tend to be more expensive. The presence of outliers suggests that some gaming laptops are exceptionally high-priced, possibly due to advanced features like top-tier GPUs.\n",
    "\n",
    "**2 in 1 Convertible:** These laptops have a moderate to high median price with a relatively wide IQR. The variability suggests that 2-in-1 convertibles cater to both mid-range and high-end segments, appealing to users looking for versatility in a device that can function as both a laptop and a tablet.\n",
    "\n",
    "**Workstation:** Workstations have a high median price with a moderately wide IQR, indicating that they are typically expensive. This is expected as workstations are designed for professional use with high-performance components, suitable for tasks like 3D rendering and video editing.\n",
    "\n",
    "\n",
    "* The plot reveals clear stratification in pricing based on the type of laptop. Gaming laptops, workstations, and ultrabooks are consistently more expensive, while notebooks and netbooks occupy the lower price ranges.\n",
    "\n",
    "* Notebooks and 2-in-1 convertibles show significant price variability, suggesting that these categories cover a broad spectrum of market needs, from basic functionality to more advanced features.\n",
    "\n",
    "* The outliers in gaming, ultrabooks, and 2-in-1 convertibles suggest that certain models within these categories have specialized or premium features that significantly increase their prices."
   ]
  },
  {
   "cell_type": "code",
   "execution_count": 19,
   "id": "e4610902-553e-4547-a449-a9d1bf541763",
   "metadata": {},
   "outputs": [
    {
     "data": {
      "image/png": "[encoded data removed]",
      "text/plain": [
       "<Figure size 1000x400 with 1 Axes>"
      ]
     },
     "metadata": {},
     "output_type": "display_data"
    }
   ],
   "source": [
    "plt.figure(figsize=(10, 4))\n",
    "sns.boxplot(data=df, x='OpSys', y='Price')\n",
    "plt.xticks(rotation=45)\n",
    "plt.title('Box Plot of Price by OpSys')\n",
    "plt.show()\n"
   ]
  },
  {
   "cell_type": "markdown",
   "id": "aa2931a2-287f-4329-b041-c50fffc7683a",
   "metadata": {},
   "source": [
    "**macOS:** Laptops with macOS have a relatively high median price, with a moderately narrow IQR. This suggests that Apple products are consistently priced at a premium, reflecting their positioning as high-end devices.\n",
    "\n",
    "**No OS:** Laptops without an operating system have a low median price with a narrow IQR. This is likely because these laptops are often sold at lower prices, targeting users who prefer to install their own operating system or those seeking budget options.\n",
    "\n",
    "**Windows 10:** This category shows a moderate median price with a wide IQR and a significant number of outliers. The wide price range indicates that Windows 10 laptops cover a broad market spectrum, from budget to premium models.\n",
    "\n",
    "**Mac OS X:** Similar to macOS, laptops with Mac OS X show a high median price with a narrow IQR, reinforcing the premium pricing of Apple products.\n",
    "Linux: Laptops running Linux have a low median price with a narrow IQR, suggesting they are positioned as budget or specialized devices, often favored by developers or tech enthusiasts looking for cost-effective options.\n",
    "\n",
    "**Android:** Laptops running Android show a low median price with a narrow IQR, indicating that these devices are likely inexpensive and cater to a niche market.\n",
    "\n",
    "**Windows 10 S:** This category has a moderate median price with a relatively narrow IQR. Windows 10 S is typically found in mid-range devices, offering a streamlined version of Windows 10.\n",
    "\n",
    "**Chrome OS:** Laptops with Chrome OS have a low median price with a narrow IQR, reflecting their positioning as budget-friendly devices, often targeted at educational markets or users with basic computing needs.\n",
    "\n",
    "**Windows 7:** Laptops with Windows 7 show a relatively high median price with a wider IQR, which may indicate that these devices are either older high-end models or specialized systems still in use in certain sectors.\n",
    "\n",
    "Apple’s macOS and Mac OS X dominate the premium segment, while Linux, Chrome OS, and Android are linked with budget devices. Windows 10 demonstrates significant price variability, catering to a broad range of market needs. The presence of outliers, especially in the Windows 10 category, suggests that certain models with advanced features or specific use cases can command much higher prices."
   ]
  },
  {
   "cell_type": "code",
   "execution_count": 20,
   "id": "4168e61d-36cb-4f71-8366-eebe2e0049bc",
   "metadata": {},
   "outputs": [
    {
     "data": {
      "text/plain": [
       "<Axes: xlabel='Inches', ylabel='Price'>"
      ]
     },
     "execution_count": 20,
     "metadata": {},
     "output_type": "execute_result"
    },
    {
     "data": {
      "image/png": "[encoded data removed]",
      "text/plain": [
       "<Figure size 640x480 with 1 Axes>"
      ]
     },
     "metadata": {},
     "output_type": "display_data"
    }
   ],
   "source": [
    "sns.scatterplot(x=df['Inches'],y=df['Price'])"
   ]
  },
  {
   "cell_type": "markdown",
   "id": "8366c833-474f-4015-8791-fcf753bdc44e",
   "metadata": {},
   "source": [
    "There is a general trend where the price increases with screen size (measured in inches). Laptops with larger screens, such as 15-17 inches, tend to be priced higher.\n",
    "\n",
    "Some outliers exist, where laptops with smaller screen sizes still have high prices. This could indicate premium models with advanced features or brand-specific pricing strategies."
   ]
  },
  {
   "cell_type": "code",
   "execution_count": 21,
   "id": "5a3507b6-b26a-4f05-83b9-2ad545c1ddbc",
   "metadata": {},
   "outputs": [
    {
     "data": {
      "text/plain": [
       "<Axes: xlabel='Ram', ylabel='Price'>"
      ]
     },
     "execution_count": 21,
     "metadata": {},
     "output_type": "execute_result"
    },
    {
     "data": {
      "image/png": "[encoded data removed]",
      "text/plain": [
       "<Figure size 640x480 with 1 Axes>"
      ]
     },
     "metadata": {},
     "output_type": "display_data"
    }
   ],
   "source": [
    "sns.scatterplot(x=df['Ram'],y=df['Price'])"
   ]
  },
  {
   "cell_type": "markdown",
   "id": "06fea008-28c2-4d4e-81e0-f8bca3cd929f",
   "metadata": {},
   "source": [
    "As the amount of RAM increases, the price generally increases as well. Laptops with higher RAM configurations, such as 16 GB and above, tend to have significantly higher prices.\n",
    "\n",
    "There's a noticeable cluster of laptops with 8 GB RAM around the mid-price range, which might indicate that this is a common configuration for mid-range laptops.\n",
    "\n",
    "A few outliers show very high prices, even with high RAM values, possibly reflecting high-performance or specialized laptops.\n"
   ]
  },
  {
   "cell_type": "code",
   "execution_count": 22,
   "id": "364cc345-8b95-40cc-9a00-085a40d6ef11",
   "metadata": {},
   "outputs": [
    {
     "data": {
      "text/plain": [
       "<Axes: xlabel='Weight', ylabel='Price'>"
      ]
     },
     "execution_count": 22,
     "metadata": {},
     "output_type": "execute_result"
    },
    {
     "data": {
      "image/png": "[encoded data removed]",
      "text/plain": [
       "<Figure size 640x480 with 1 Axes>"
      ]
     },
     "metadata": {},
     "output_type": "display_data"
    }
   ],
   "source": [
    "sns.scatterplot(x=df['Weight'],y=df['Price'])"
   ]
  },
  {
   "cell_type": "markdown",
   "id": "055a641e-00c5-4bc0-8d9c-e32895410a57",
   "metadata": {},
   "source": [
    "The relationship between weight and price is less clear compared to the other two features. Most laptops are clustered around a weight of 1 to 3 kg, with prices distributed across a wide range.\n",
    "\n",
    "Heavier laptops (around 4 kg or more) seem to include some of the higher-priced models. However, there are also lightweight laptops with high prices, likely ultrabooks or premium models."
   ]
  },
  {
   "cell_type": "markdown",
   "id": "3b9edc9a-dc4e-4c92-a8cb-c7f2e6f37400",
   "metadata": {},
   "source": [
    "# Feature Engineering"
   ]
  },
  {
   "cell_type": "markdown",
   "id": "c4bd3824-f3f4-4af1-889c-b89ba3acc247",
   "metadata": {},
   "source": [
    "## Creating New Features"
   ]
  },
  {
   "cell_type": "markdown",
   "id": "b2ddd0ab-03db-4e3b-8d44-e4cc19ac3cb7",
   "metadata": {},
   "source": [
    "#### Touchscreen"
   ]
  },
  {
   "cell_type": "code",
   "execution_count": 23,
   "id": "ff9bb242-25b7-4782-a040-67e4966998ff",
   "metadata": {},
   "outputs": [
    {
     "data": {
      "text/plain": [
       "ScreenResolution\n",
       "Full HD 1920x1080                                507\n",
       "1366x768                                         281\n",
       "IPS Panel Full HD 1920x1080                      230\n",
       "IPS Panel Full HD / Touchscreen 1920x1080         53\n",
       "Full HD / Touchscreen 1920x1080                   47\n",
       "1600x900                                          23\n",
       "Touchscreen 1366x768                              16\n",
       "Quad HD+ / Touchscreen 3200x1800                  15\n",
       "IPS Panel 4K Ultra HD 3840x2160                   12\n",
       "IPS Panel 4K Ultra HD / Touchscreen 3840x2160     11\n",
       "4K Ultra HD / Touchscreen 3840x2160               10\n",
       "IPS Panel 1366x768                                 7\n",
       "Touchscreen 2560x1440                              7\n",
       "4K Ultra HD 3840x2160                              7\n",
       "IPS Panel Retina Display 2304x1440                 6\n",
       "IPS Panel Retina Display 2560x1600                 6\n",
       "Touchscreen 2256x1504                              6\n",
       "IPS Panel Quad HD+ / Touchscreen 3200x1800         6\n",
       "IPS Panel Touchscreen 2560x1440                    5\n",
       "IPS Panel Retina Display 2880x1800                 4\n",
       "1440x900                                           4\n",
       "IPS Panel Touchscreen 1920x1200                    4\n",
       "IPS Panel 2560x1440                                4\n",
       "IPS Panel Quad HD+ 2560x1440                       3\n",
       "IPS Panel Touchscreen 1366x768                     3\n",
       "Quad HD+ 3200x1800                                 3\n",
       "1920x1080                                          3\n",
       "2560x1440                                          3\n",
       "Touchscreen 2400x1600                              3\n",
       "IPS Panel Quad HD+ 3200x1800                       2\n",
       "IPS Panel Full HD 2160x1440                        2\n",
       "IPS Panel Touchscreen / 4K Ultra HD 3840x2160      2\n",
       "IPS Panel Full HD 1366x768                         1\n",
       "Touchscreen / Quad HD+ 3200x1800                   1\n",
       "IPS Panel Retina Display 2736x1824                 1\n",
       "IPS Panel Full HD 2560x1440                        1\n",
       "IPS Panel Full HD 1920x1200                        1\n",
       "Touchscreen / Full HD 1920x1080                    1\n",
       "Touchscreen / 4K Ultra HD 3840x2160                1\n",
       "IPS Panel Touchscreen 2400x1600                    1\n",
       "Name: count, dtype: int64"
      ]
     },
     "execution_count": 23,
     "metadata": {},
     "output_type": "execute_result"
    }
   ],
   "source": [
    "df['ScreenResolution'].value_counts()"
   ]
  },
  {
   "cell_type": "code",
   "execution_count": 24,
   "id": "0be6dfc4-b956-4ac2-8f49-57dfb91fdc7c",
   "metadata": {},
   "outputs": [],
   "source": [
    "df['Touchscreen'] = df['ScreenResolution'].apply(lambda x:1 if 'Touchscreen' in x else 0)"
   ]
  },
  {
   "cell_type": "code",
   "execution_count": 25,
   "id": "f288588b-5c94-4cd6-8f68-cee2d95e5675",
   "metadata": {},
   "outputs": [
    {
     "data": {
      "text/html": [
       "<div>\n",
       "<style scoped>\n",
       "    .dataframe tbody tr th:only-of-type {\n",
       "        vertical-align: middle;\n",
       "    }\n",
       "\n",
       "    .dataframe tbody tr th {\n",
       "        vertical-align: top;\n",
       "    }\n",
       "\n",
       "    .dataframe thead th {\n",
       "        text-align: right;\n",
       "    }\n",
       "</style>\n",
       "<table border=\"1\" class=\"dataframe\">\n",
       "  <thead>\n",
       "    <tr style=\"text-align: right;\">\n",
       "      <th></th>\n",
       "      <th>Company</th>\n",
       "      <th>TypeName</th>\n",
       "      <th>Inches</th>\n",
       "      <th>ScreenResolution</th>\n",
       "      <th>Cpu</th>\n",
       "      <th>Ram</th>\n",
       "      <th>Memory</th>\n",
       "      <th>Gpu</th>\n",
       "      <th>OpSys</th>\n",
       "      <th>Weight</th>\n",
       "      <th>Price</th>\n",
       "      <th>Touchscreen</th>\n",
       "    </tr>\n",
       "  </thead>\n",
       "  <tbody>\n",
       "    <tr>\n",
       "      <th>1089</th>\n",
       "      <td>Acer</td>\n",
       "      <td>Notebook</td>\n",
       "      <td>15.6</td>\n",
       "      <td>1366x768</td>\n",
       "      <td>AMD A8-Series 7410 2.2GHz</td>\n",
       "      <td>4</td>\n",
       "      <td>500GB HDD</td>\n",
       "      <td>AMD Radeon R5</td>\n",
       "      <td>Windows 10</td>\n",
       "      <td>2.40</td>\n",
       "      <td>20619.3600</td>\n",
       "      <td>0</td>\n",
       "    </tr>\n",
       "    <tr>\n",
       "      <th>1023</th>\n",
       "      <td>HP</td>\n",
       "      <td>Notebook</td>\n",
       "      <td>14.0</td>\n",
       "      <td>Full HD 1920x1080</td>\n",
       "      <td>Intel Core i7 7500U 2.7GHz</td>\n",
       "      <td>8</td>\n",
       "      <td>256GB SSD</td>\n",
       "      <td>Nvidia GeForce 930MX</td>\n",
       "      <td>Windows 10</td>\n",
       "      <td>1.64</td>\n",
       "      <td>63159.7104</td>\n",
       "      <td>0</td>\n",
       "    </tr>\n",
       "    <tr>\n",
       "      <th>603</th>\n",
       "      <td>MSI</td>\n",
       "      <td>Gaming</td>\n",
       "      <td>17.3</td>\n",
       "      <td>Full HD 1920x1080</td>\n",
       "      <td>Intel Core i7 6820HK 2.7GHz</td>\n",
       "      <td>16</td>\n",
       "      <td>128GB SSD +  1TB HDD</td>\n",
       "      <td>Nvidia GeForce GTX 970M</td>\n",
       "      <td>Windows 10</td>\n",
       "      <td>4.14</td>\n",
       "      <td>117162.7200</td>\n",
       "      <td>0</td>\n",
       "    </tr>\n",
       "    <tr>\n",
       "      <th>384</th>\n",
       "      <td>Asus</td>\n",
       "      <td>Ultrabook</td>\n",
       "      <td>13.3</td>\n",
       "      <td>Full HD / Touchscreen 1920x1080</td>\n",
       "      <td>Intel Core i7 7500U 2.7GHz</td>\n",
       "      <td>16</td>\n",
       "      <td>512GB SSD</td>\n",
       "      <td>Intel HD Graphics 620</td>\n",
       "      <td>Windows 10</td>\n",
       "      <td>1.10</td>\n",
       "      <td>93181.3920</td>\n",
       "      <td>1</td>\n",
       "    </tr>\n",
       "    <tr>\n",
       "      <th>1243</th>\n",
       "      <td>Dell</td>\n",
       "      <td>2 in 1 Convertible</td>\n",
       "      <td>17.3</td>\n",
       "      <td>Full HD / Touchscreen 1920x1080</td>\n",
       "      <td>Intel Core i7 7500U 2.7GHz</td>\n",
       "      <td>16</td>\n",
       "      <td>512GB SSD</td>\n",
       "      <td>Nvidia GeForce 940MX</td>\n",
       "      <td>Windows 10</td>\n",
       "      <td>2.77</td>\n",
       "      <td>95850.7200</td>\n",
       "      <td>1</td>\n",
       "    </tr>\n",
       "  </tbody>\n",
       "</table>\n",
       "</div>"
      ],
      "text/plain": [
       "     Company            TypeName  Inches                 ScreenResolution  \\\n",
       "1089    Acer            Notebook    15.6                         1366x768   \n",
       "1023      HP            Notebook    14.0                Full HD 1920x1080   \n",
       "603      MSI              Gaming    17.3                Full HD 1920x1080   \n",
       "384     Asus           Ultrabook    13.3  Full HD / Touchscreen 1920x1080   \n",
       "1243    Dell  2 in 1 Convertible    17.3  Full HD / Touchscreen 1920x1080   \n",
       "\n",
       "                              Cpu  Ram                Memory  \\\n",
       "1089    AMD A8-Series 7410 2.2GHz    4             500GB HDD   \n",
       "1023   Intel Core i7 7500U 2.7GHz    8             256GB SSD   \n",
       "603   Intel Core i7 6820HK 2.7GHz   16  128GB SSD +  1TB HDD   \n",
       "384    Intel Core i7 7500U 2.7GHz   16             512GB SSD   \n",
       "1243   Intel Core i7 7500U 2.7GHz   16             512GB SSD   \n",
       "\n",
       "                          Gpu       OpSys  Weight        Price  Touchscreen  \n",
       "1089            AMD Radeon R5  Windows 10    2.40   20619.3600            0  \n",
       "1023     Nvidia GeForce 930MX  Windows 10    1.64   63159.7104            0  \n",
       "603   Nvidia GeForce GTX 970M  Windows 10    4.14  117162.7200            0  \n",
       "384     Intel HD Graphics 620  Windows 10    1.10   93181.3920            1  \n",
       "1243     Nvidia GeForce 940MX  Windows 10    2.77   95850.7200            1  "
      ]
     },
     "execution_count": 25,
     "metadata": {},
     "output_type": "execute_result"
    }
   ],
   "source": [
    "df.sample(5)"
   ]
  },
  {
   "cell_type": "markdown",
   "id": "60ad0f70-601c-428e-9cf9-63c45f814d7e",
   "metadata": {},
   "source": [
    "#### Ips"
   ]
  },
  {
   "cell_type": "code",
   "execution_count": 26,
   "id": "a052905e-ca1d-4756-89bb-c75b541f8f09",
   "metadata": {},
   "outputs": [],
   "source": [
    "df['Ips'] = df['ScreenResolution'].apply(lambda x:1 if 'IPS' in x else 0)"
   ]
  },
  {
   "cell_type": "code",
   "execution_count": 27,
   "id": "8aa641fa-755a-4382-9acb-bf5f7e7c5098",
   "metadata": {},
   "outputs": [
    {
     "data": {
      "text/html": [
       "<div>\n",
       "<style scoped>\n",
       "    .dataframe tbody tr th:only-of-type {\n",
       "        vertical-align: middle;\n",
       "    }\n",
       "\n",
       "    .dataframe tbody tr th {\n",
       "        vertical-align: top;\n",
       "    }\n",
       "\n",
       "    .dataframe thead th {\n",
       "        text-align: right;\n",
       "    }\n",
       "</style>\n",
       "<table border=\"1\" class=\"dataframe\">\n",
       "  <thead>\n",
       "    <tr style=\"text-align: right;\">\n",
       "      <th></th>\n",
       "      <th>Company</th>\n",
       "      <th>TypeName</th>\n",
       "      <th>Inches</th>\n",
       "      <th>ScreenResolution</th>\n",
       "      <th>Cpu</th>\n",
       "      <th>Ram</th>\n",
       "      <th>Memory</th>\n",
       "      <th>Gpu</th>\n",
       "      <th>OpSys</th>\n",
       "      <th>Weight</th>\n",
       "      <th>Price</th>\n",
       "      <th>Touchscreen</th>\n",
       "      <th>Ips</th>\n",
       "    </tr>\n",
       "  </thead>\n",
       "  <tbody>\n",
       "    <tr>\n",
       "      <th>0</th>\n",
       "      <td>Apple</td>\n",
       "      <td>Ultrabook</td>\n",
       "      <td>13.3</td>\n",
       "      <td>IPS Panel Retina Display 2560x1600</td>\n",
       "      <td>Intel Core i5 2.3GHz</td>\n",
       "      <td>8</td>\n",
       "      <td>128GB SSD</td>\n",
       "      <td>Intel Iris Plus Graphics 640</td>\n",
       "      <td>macOS</td>\n",
       "      <td>1.37</td>\n",
       "      <td>71378.6832</td>\n",
       "      <td>0</td>\n",
       "      <td>1</td>\n",
       "    </tr>\n",
       "    <tr>\n",
       "      <th>1</th>\n",
       "      <td>Apple</td>\n",
       "      <td>Ultrabook</td>\n",
       "      <td>13.3</td>\n",
       "      <td>1440x900</td>\n",
       "      <td>Intel Core i5 1.8GHz</td>\n",
       "      <td>8</td>\n",
       "      <td>128GB Flash Storage</td>\n",
       "      <td>Intel HD Graphics 6000</td>\n",
       "      <td>macOS</td>\n",
       "      <td>1.34</td>\n",
       "      <td>47895.5232</td>\n",
       "      <td>0</td>\n",
       "      <td>0</td>\n",
       "    </tr>\n",
       "    <tr>\n",
       "      <th>2</th>\n",
       "      <td>HP</td>\n",
       "      <td>Notebook</td>\n",
       "      <td>15.6</td>\n",
       "      <td>Full HD 1920x1080</td>\n",
       "      <td>Intel Core i5 7200U 2.5GHz</td>\n",
       "      <td>8</td>\n",
       "      <td>256GB SSD</td>\n",
       "      <td>Intel HD Graphics 620</td>\n",
       "      <td>No OS</td>\n",
       "      <td>1.86</td>\n",
       "      <td>30636.0000</td>\n",
       "      <td>0</td>\n",
       "      <td>0</td>\n",
       "    </tr>\n",
       "    <tr>\n",
       "      <th>3</th>\n",
       "      <td>Apple</td>\n",
       "      <td>Ultrabook</td>\n",
       "      <td>15.4</td>\n",
       "      <td>IPS Panel Retina Display 2880x1800</td>\n",
       "      <td>Intel Core i7 2.7GHz</td>\n",
       "      <td>16</td>\n",
       "      <td>512GB SSD</td>\n",
       "      <td>AMD Radeon Pro 455</td>\n",
       "      <td>macOS</td>\n",
       "      <td>1.83</td>\n",
       "      <td>135195.3360</td>\n",
       "      <td>0</td>\n",
       "      <td>1</td>\n",
       "    </tr>\n",
       "    <tr>\n",
       "      <th>4</th>\n",
       "      <td>Apple</td>\n",
       "      <td>Ultrabook</td>\n",
       "      <td>13.3</td>\n",
       "      <td>IPS Panel Retina Display 2560x1600</td>\n",
       "      <td>Intel Core i5 3.1GHz</td>\n",
       "      <td>8</td>\n",
       "      <td>256GB SSD</td>\n",
       "      <td>Intel Iris Plus Graphics 650</td>\n",
       "      <td>macOS</td>\n",
       "      <td>1.37</td>\n",
       "      <td>96095.8080</td>\n",
       "      <td>0</td>\n",
       "      <td>1</td>\n",
       "    </tr>\n",
       "  </tbody>\n",
       "</table>\n",
       "</div>"
      ],
      "text/plain": [
       "  Company   TypeName  Inches                    ScreenResolution  \\\n",
       "0   Apple  Ultrabook    13.3  IPS Panel Retina Display 2560x1600   \n",
       "1   Apple  Ultrabook    13.3                            1440x900   \n",
       "2      HP   Notebook    15.6                   Full HD 1920x1080   \n",
       "3   Apple  Ultrabook    15.4  IPS Panel Retina Display 2880x1800   \n",
       "4   Apple  Ultrabook    13.3  IPS Panel Retina Display 2560x1600   \n",
       "\n",
       "                          Cpu  Ram               Memory  \\\n",
       "0        Intel Core i5 2.3GHz    8            128GB SSD   \n",
       "1        Intel Core i5 1.8GHz    8  128GB Flash Storage   \n",
       "2  Intel Core i5 7200U 2.5GHz    8            256GB SSD   \n",
       "3        Intel Core i7 2.7GHz   16            512GB SSD   \n",
       "4        Intel Core i5 3.1GHz    8            256GB SSD   \n",
       "\n",
       "                            Gpu  OpSys  Weight        Price  Touchscreen  Ips  \n",
       "0  Intel Iris Plus Graphics 640  macOS    1.37   71378.6832            0    1  \n",
       "1        Intel HD Graphics 6000  macOS    1.34   47895.5232            0    0  \n",
       "2         Intel HD Graphics 620  No OS    1.86   30636.0000            0    0  \n",
       "3            AMD Radeon Pro 455  macOS    1.83  135195.3360            0    1  \n",
       "4  Intel Iris Plus Graphics 650  macOS    1.37   96095.8080            0    1  "
      ]
     },
     "execution_count": 27,
     "metadata": {},
     "output_type": "execute_result"
    }
   ],
   "source": [
    "df.head()"
   ]
  },
  {
   "cell_type": "markdown",
   "id": "638c6ef4-7ca5-43a2-9572-711662db3535",
   "metadata": {},
   "source": [
    "#### X_res & Y_res"
   ]
  },
  {
   "cell_type": "code",
   "execution_count": 28,
   "id": "e6759e0c-ab44-45d6-a81d-14fe07837ab9",
   "metadata": {},
   "outputs": [],
   "source": [
    "new = df['ScreenResolution'].str.split('x',n=1,expand=True)"
   ]
  },
  {
   "cell_type": "code",
   "execution_count": 29,
   "id": "9ffb3ea8-4f02-4e00-942a-a003d1d3782b",
   "metadata": {},
   "outputs": [],
   "source": [
    "df['X_res'] = new[0]\n",
    "df['Y_res'] = new[1]"
   ]
  },
  {
   "cell_type": "code",
   "execution_count": 30,
   "id": "11eb70fa-f594-41b0-bcc3-eef34cb30de2",
   "metadata": {},
   "outputs": [
    {
     "data": {
      "text/html": [
       "<div>\n",
       "<style scoped>\n",
       "    .dataframe tbody tr th:only-of-type {\n",
       "        vertical-align: middle;\n",
       "    }\n",
       "\n",
       "    .dataframe tbody tr th {\n",
       "        vertical-align: top;\n",
       "    }\n",
       "\n",
       "    .dataframe thead th {\n",
       "        text-align: right;\n",
       "    }\n",
       "</style>\n",
       "<table border=\"1\" class=\"dataframe\">\n",
       "  <thead>\n",
       "    <tr style=\"text-align: right;\">\n",
       "      <th></th>\n",
       "      <th>Company</th>\n",
       "      <th>TypeName</th>\n",
       "      <th>Inches</th>\n",
       "      <th>ScreenResolution</th>\n",
       "      <th>Cpu</th>\n",
       "      <th>Ram</th>\n",
       "      <th>Memory</th>\n",
       "      <th>Gpu</th>\n",
       "      <th>OpSys</th>\n",
       "      <th>Weight</th>\n",
       "      <th>Price</th>\n",
       "      <th>Touchscreen</th>\n",
       "      <th>Ips</th>\n",
       "      <th>X_res</th>\n",
       "      <th>Y_res</th>\n",
       "    </tr>\n",
       "  </thead>\n",
       "  <tbody>\n",
       "    <tr>\n",
       "      <th>1262</th>\n",
       "      <td>Dell</td>\n",
       "      <td>Notebook</td>\n",
       "      <td>15.6</td>\n",
       "      <td>1366x768</td>\n",
       "      <td>Intel Core i3 7100U 2.4GHz</td>\n",
       "      <td>6</td>\n",
       "      <td>1TB HDD</td>\n",
       "      <td>Intel HD Graphics 620</td>\n",
       "      <td>Windows 10</td>\n",
       "      <td>2.30</td>\n",
       "      <td>24455.5200</td>\n",
       "      <td>0</td>\n",
       "      <td>0</td>\n",
       "      <td>1366</td>\n",
       "      <td>768</td>\n",
       "    </tr>\n",
       "    <tr>\n",
       "      <th>895</th>\n",
       "      <td>Toshiba</td>\n",
       "      <td>Notebook</td>\n",
       "      <td>13.3</td>\n",
       "      <td>Full HD 1920x1080</td>\n",
       "      <td>Intel Core i5 7200U 2.5GHz</td>\n",
       "      <td>8</td>\n",
       "      <td>256GB SSD</td>\n",
       "      <td>Intel HD Graphics 620</td>\n",
       "      <td>Windows 10</td>\n",
       "      <td>1.05</td>\n",
       "      <td>78588.0000</td>\n",
       "      <td>0</td>\n",
       "      <td>0</td>\n",
       "      <td>Full HD 1920</td>\n",
       "      <td>1080</td>\n",
       "    </tr>\n",
       "    <tr>\n",
       "      <th>611</th>\n",
       "      <td>Dell</td>\n",
       "      <td>Gaming</td>\n",
       "      <td>15.6</td>\n",
       "      <td>Full HD 1920x1080</td>\n",
       "      <td>Intel Core i7 6700HQ 2.6GHz</td>\n",
       "      <td>16</td>\n",
       "      <td>1TB HDD</td>\n",
       "      <td>Nvidia GeForce GTX 960&lt;U+039C&gt;</td>\n",
       "      <td>Windows 10</td>\n",
       "      <td>2.59</td>\n",
       "      <td>46833.6528</td>\n",
       "      <td>0</td>\n",
       "      <td>0</td>\n",
       "      <td>Full HD 1920</td>\n",
       "      <td>1080</td>\n",
       "    </tr>\n",
       "    <tr>\n",
       "      <th>707</th>\n",
       "      <td>Lenovo</td>\n",
       "      <td>Workstation</td>\n",
       "      <td>15.6</td>\n",
       "      <td>Full HD 1920x1080</td>\n",
       "      <td>Intel Core i7 6500U 2.5GHz</td>\n",
       "      <td>16</td>\n",
       "      <td>512GB SSD</td>\n",
       "      <td>Nvidia Quadro M520M</td>\n",
       "      <td>Windows 7</td>\n",
       "      <td>2.18</td>\n",
       "      <td>98834.4000</td>\n",
       "      <td>0</td>\n",
       "      <td>0</td>\n",
       "      <td>Full HD 1920</td>\n",
       "      <td>1080</td>\n",
       "    </tr>\n",
       "    <tr>\n",
       "      <th>271</th>\n",
       "      <td>Asus</td>\n",
       "      <td>Gaming</td>\n",
       "      <td>17.3</td>\n",
       "      <td>Full HD 1920x1080</td>\n",
       "      <td>AMD Ryzen 1700 3GHz</td>\n",
       "      <td>16</td>\n",
       "      <td>256GB SSD +  1TB HDD</td>\n",
       "      <td>AMD Radeon RX 580</td>\n",
       "      <td>Windows 10</td>\n",
       "      <td>3.20</td>\n",
       "      <td>82530.7200</td>\n",
       "      <td>0</td>\n",
       "      <td>0</td>\n",
       "      <td>Full HD 1920</td>\n",
       "      <td>1080</td>\n",
       "    </tr>\n",
       "  </tbody>\n",
       "</table>\n",
       "</div>"
      ],
      "text/plain": [
       "      Company     TypeName  Inches   ScreenResolution  \\\n",
       "1262     Dell     Notebook    15.6           1366x768   \n",
       "895   Toshiba     Notebook    13.3  Full HD 1920x1080   \n",
       "611      Dell       Gaming    15.6  Full HD 1920x1080   \n",
       "707    Lenovo  Workstation    15.6  Full HD 1920x1080   \n",
       "271      Asus       Gaming    17.3  Full HD 1920x1080   \n",
       "\n",
       "                              Cpu  Ram                Memory  \\\n",
       "1262   Intel Core i3 7100U 2.4GHz    6               1TB HDD   \n",
       "895    Intel Core i5 7200U 2.5GHz    8             256GB SSD   \n",
       "611   Intel Core i7 6700HQ 2.6GHz   16               1TB HDD   \n",
       "707    Intel Core i7 6500U 2.5GHz   16             512GB SSD   \n",
       "271           AMD Ryzen 1700 3GHz   16  256GB SSD +  1TB HDD   \n",
       "\n",
       "                                 Gpu       OpSys  Weight       Price  \\\n",
       "1262           Intel HD Graphics 620  Windows 10    2.30  24455.5200   \n",
       "895            Intel HD Graphics 620  Windows 10    1.05  78588.0000   \n",
       "611   Nvidia GeForce GTX 960<U+039C>  Windows 10    2.59  46833.6528   \n",
       "707              Nvidia Quadro M520M   Windows 7    2.18  98834.4000   \n",
       "271                AMD Radeon RX 580  Windows 10    3.20  82530.7200   \n",
       "\n",
       "      Touchscreen  Ips         X_res Y_res  \n",
       "1262            0    0          1366   768  \n",
       "895             0    0  Full HD 1920  1080  \n",
       "611             0    0  Full HD 1920  1080  \n",
       "707             0    0  Full HD 1920  1080  \n",
       "271             0    0  Full HD 1920  1080  "
      ]
     },
     "execution_count": 30,
     "metadata": {},
     "output_type": "execute_result"
    }
   ],
   "source": [
    "df.sample(5)"
   ]
  },
  {
   "cell_type": "code",
   "execution_count": 31,
   "id": "64795285-9b46-4329-99ea-7deb8698203e",
   "metadata": {},
   "outputs": [],
   "source": [
    "df['X_res'] = df['X_res'].str.replace(',','').str.findall(r'(\\d+\\.?\\d+)').apply(lambda x:x[0])"
   ]
  },
  {
   "cell_type": "code",
   "execution_count": 32,
   "id": "a572c9e4-3e0c-47c9-a86e-f636340f02c6",
   "metadata": {},
   "outputs": [
    {
     "data": {
      "text/html": [
       "<div>\n",
       "<style scoped>\n",
       "    .dataframe tbody tr th:only-of-type {\n",
       "        vertical-align: middle;\n",
       "    }\n",
       "\n",
       "    .dataframe tbody tr th {\n",
       "        vertical-align: top;\n",
       "    }\n",
       "\n",
       "    .dataframe thead th {\n",
       "        text-align: right;\n",
       "    }\n",
       "</style>\n",
       "<table border=\"1\" class=\"dataframe\">\n",
       "  <thead>\n",
       "    <tr style=\"text-align: right;\">\n",
       "      <th></th>\n",
       "      <th>Company</th>\n",
       "      <th>TypeName</th>\n",
       "      <th>Inches</th>\n",
       "      <th>ScreenResolution</th>\n",
       "      <th>Cpu</th>\n",
       "      <th>Ram</th>\n",
       "      <th>Memory</th>\n",
       "      <th>Gpu</th>\n",
       "      <th>OpSys</th>\n",
       "      <th>Weight</th>\n",
       "      <th>Price</th>\n",
       "      <th>Touchscreen</th>\n",
       "      <th>Ips</th>\n",
       "      <th>X_res</th>\n",
       "      <th>Y_res</th>\n",
       "    </tr>\n",
       "  </thead>\n",
       "  <tbody>\n",
       "    <tr>\n",
       "      <th>0</th>\n",
       "      <td>Apple</td>\n",
       "      <td>Ultrabook</td>\n",
       "      <td>13.3</td>\n",
       "      <td>IPS Panel Retina Display 2560x1600</td>\n",
       "      <td>Intel Core i5 2.3GHz</td>\n",
       "      <td>8</td>\n",
       "      <td>128GB SSD</td>\n",
       "      <td>Intel Iris Plus Graphics 640</td>\n",
       "      <td>macOS</td>\n",
       "      <td>1.37</td>\n",
       "      <td>71378.6832</td>\n",
       "      <td>0</td>\n",
       "      <td>1</td>\n",
       "      <td>2560</td>\n",
       "      <td>1600</td>\n",
       "    </tr>\n",
       "    <tr>\n",
       "      <th>1</th>\n",
       "      <td>Apple</td>\n",
       "      <td>Ultrabook</td>\n",
       "      <td>13.3</td>\n",
       "      <td>1440x900</td>\n",
       "      <td>Intel Core i5 1.8GHz</td>\n",
       "      <td>8</td>\n",
       "      <td>128GB Flash Storage</td>\n",
       "      <td>Intel HD Graphics 6000</td>\n",
       "      <td>macOS</td>\n",
       "      <td>1.34</td>\n",
       "      <td>47895.5232</td>\n",
       "      <td>0</td>\n",
       "      <td>0</td>\n",
       "      <td>1440</td>\n",
       "      <td>900</td>\n",
       "    </tr>\n",
       "    <tr>\n",
       "      <th>2</th>\n",
       "      <td>HP</td>\n",
       "      <td>Notebook</td>\n",
       "      <td>15.6</td>\n",
       "      <td>Full HD 1920x1080</td>\n",
       "      <td>Intel Core i5 7200U 2.5GHz</td>\n",
       "      <td>8</td>\n",
       "      <td>256GB SSD</td>\n",
       "      <td>Intel HD Graphics 620</td>\n",
       "      <td>No OS</td>\n",
       "      <td>1.86</td>\n",
       "      <td>30636.0000</td>\n",
       "      <td>0</td>\n",
       "      <td>0</td>\n",
       "      <td>1920</td>\n",
       "      <td>1080</td>\n",
       "    </tr>\n",
       "    <tr>\n",
       "      <th>3</th>\n",
       "      <td>Apple</td>\n",
       "      <td>Ultrabook</td>\n",
       "      <td>15.4</td>\n",
       "      <td>IPS Panel Retina Display 2880x1800</td>\n",
       "      <td>Intel Core i7 2.7GHz</td>\n",
       "      <td>16</td>\n",
       "      <td>512GB SSD</td>\n",
       "      <td>AMD Radeon Pro 455</td>\n",
       "      <td>macOS</td>\n",
       "      <td>1.83</td>\n",
       "      <td>135195.3360</td>\n",
       "      <td>0</td>\n",
       "      <td>1</td>\n",
       "      <td>2880</td>\n",
       "      <td>1800</td>\n",
       "    </tr>\n",
       "    <tr>\n",
       "      <th>4</th>\n",
       "      <td>Apple</td>\n",
       "      <td>Ultrabook</td>\n",
       "      <td>13.3</td>\n",
       "      <td>IPS Panel Retina Display 2560x1600</td>\n",
       "      <td>Intel Core i5 3.1GHz</td>\n",
       "      <td>8</td>\n",
       "      <td>256GB SSD</td>\n",
       "      <td>Intel Iris Plus Graphics 650</td>\n",
       "      <td>macOS</td>\n",
       "      <td>1.37</td>\n",
       "      <td>96095.8080</td>\n",
       "      <td>0</td>\n",
       "      <td>1</td>\n",
       "      <td>2560</td>\n",
       "      <td>1600</td>\n",
       "    </tr>\n",
       "  </tbody>\n",
       "</table>\n",
       "</div>"
      ],
      "text/plain": [
       "  Company   TypeName  Inches                    ScreenResolution  \\\n",
       "0   Apple  Ultrabook    13.3  IPS Panel Retina Display 2560x1600   \n",
       "1   Apple  Ultrabook    13.3                            1440x900   \n",
       "2      HP   Notebook    15.6                   Full HD 1920x1080   \n",
       "3   Apple  Ultrabook    15.4  IPS Panel Retina Display 2880x1800   \n",
       "4   Apple  Ultrabook    13.3  IPS Panel Retina Display 2560x1600   \n",
       "\n",
       "                          Cpu  Ram               Memory  \\\n",
       "0        Intel Core i5 2.3GHz    8            128GB SSD   \n",
       "1        Intel Core i5 1.8GHz    8  128GB Flash Storage   \n",
       "2  Intel Core i5 7200U 2.5GHz    8            256GB SSD   \n",
       "3        Intel Core i7 2.7GHz   16            512GB SSD   \n",
       "4        Intel Core i5 3.1GHz    8            256GB SSD   \n",
       "\n",
       "                            Gpu  OpSys  Weight        Price  Touchscreen  Ips  \\\n",
       "0  Intel Iris Plus Graphics 640  macOS    1.37   71378.6832            0    1   \n",
       "1        Intel HD Graphics 6000  macOS    1.34   47895.5232            0    0   \n",
       "2         Intel HD Graphics 620  No OS    1.86   30636.0000            0    0   \n",
       "3            AMD Radeon Pro 455  macOS    1.83  135195.3360            0    1   \n",
       "4  Intel Iris Plus Graphics 650  macOS    1.37   96095.8080            0    1   \n",
       "\n",
       "  X_res Y_res  \n",
       "0  2560  1600  \n",
       "1  1440   900  \n",
       "2  1920  1080  \n",
       "3  2880  1800  \n",
       "4  2560  1600  "
      ]
     },
     "execution_count": 32,
     "metadata": {},
     "output_type": "execute_result"
    }
   ],
   "source": [
    "df.head()"
   ]
  },
  {
   "cell_type": "code",
   "execution_count": 33,
   "id": "283bd1f3-2c40-4414-b16f-9c5683ed5b19",
   "metadata": {},
   "outputs": [],
   "source": [
    "df['X_res'] = df['X_res'].astype('int')\n",
    "df['Y_res'] = df['Y_res'].astype('int')"
   ]
  },
  {
   "cell_type": "markdown",
   "id": "6485c41a-f905-43ec-a901-aa8f4091ac53",
   "metadata": {},
   "source": [
    "#### Ppi"
   ]
  },
  {
   "cell_type": "code",
   "execution_count": 34,
   "id": "b8fa72d4-113f-4044-8c60-61a11c87427a",
   "metadata": {},
   "outputs": [],
   "source": [
    "df['ppi'] = (((df['X_res']**2) + (df['Y_res']**2))**0.5/df['Inches']).astype('float')"
   ]
  },
  {
   "cell_type": "code",
   "execution_count": 35,
   "id": "d07cba22-1187-459e-b673-3178ab2a3f54",
   "metadata": {},
   "outputs": [],
   "source": [
    "df.drop(columns=['Inches','X_res','Y_res','ScreenResolution'],inplace=True)"
   ]
  },
  {
   "cell_type": "code",
   "execution_count": 36,
   "id": "6a4b905a-0d5d-4250-8398-91e4be61a33e",
   "metadata": {},
   "outputs": [
    {
     "data": {
      "text/html": [
       "<div>\n",
       "<style scoped>\n",
       "    .dataframe tbody tr th:only-of-type {\n",
       "        vertical-align: middle;\n",
       "    }\n",
       "\n",
       "    .dataframe tbody tr th {\n",
       "        vertical-align: top;\n",
       "    }\n",
       "\n",
       "    .dataframe thead th {\n",
       "        text-align: right;\n",
       "    }\n",
       "</style>\n",
       "<table border=\"1\" class=\"dataframe\">\n",
       "  <thead>\n",
       "    <tr style=\"text-align: right;\">\n",
       "      <th></th>\n",
       "      <th>Company</th>\n",
       "      <th>TypeName</th>\n",
       "      <th>Cpu</th>\n",
       "      <th>Ram</th>\n",
       "      <th>Memory</th>\n",
       "      <th>Gpu</th>\n",
       "      <th>OpSys</th>\n",
       "      <th>Weight</th>\n",
       "      <th>Price</th>\n",
       "      <th>Touchscreen</th>\n",
       "      <th>Ips</th>\n",
       "      <th>ppi</th>\n",
       "    </tr>\n",
       "  </thead>\n",
       "  <tbody>\n",
       "    <tr>\n",
       "      <th>0</th>\n",
       "      <td>Apple</td>\n",
       "      <td>Ultrabook</td>\n",
       "      <td>Intel Core i5 2.3GHz</td>\n",
       "      <td>8</td>\n",
       "      <td>128GB SSD</td>\n",
       "      <td>Intel Iris Plus Graphics 640</td>\n",
       "      <td>macOS</td>\n",
       "      <td>1.37</td>\n",
       "      <td>71378.6832</td>\n",
       "      <td>0</td>\n",
       "      <td>1</td>\n",
       "      <td>226.983005</td>\n",
       "    </tr>\n",
       "    <tr>\n",
       "      <th>1</th>\n",
       "      <td>Apple</td>\n",
       "      <td>Ultrabook</td>\n",
       "      <td>Intel Core i5 1.8GHz</td>\n",
       "      <td>8</td>\n",
       "      <td>128GB Flash Storage</td>\n",
       "      <td>Intel HD Graphics 6000</td>\n",
       "      <td>macOS</td>\n",
       "      <td>1.34</td>\n",
       "      <td>47895.5232</td>\n",
       "      <td>0</td>\n",
       "      <td>0</td>\n",
       "      <td>127.677940</td>\n",
       "    </tr>\n",
       "    <tr>\n",
       "      <th>2</th>\n",
       "      <td>HP</td>\n",
       "      <td>Notebook</td>\n",
       "      <td>Intel Core i5 7200U 2.5GHz</td>\n",
       "      <td>8</td>\n",
       "      <td>256GB SSD</td>\n",
       "      <td>Intel HD Graphics 620</td>\n",
       "      <td>No OS</td>\n",
       "      <td>1.86</td>\n",
       "      <td>30636.0000</td>\n",
       "      <td>0</td>\n",
       "      <td>0</td>\n",
       "      <td>141.211998</td>\n",
       "    </tr>\n",
       "    <tr>\n",
       "      <th>3</th>\n",
       "      <td>Apple</td>\n",
       "      <td>Ultrabook</td>\n",
       "      <td>Intel Core i7 2.7GHz</td>\n",
       "      <td>16</td>\n",
       "      <td>512GB SSD</td>\n",
       "      <td>AMD Radeon Pro 455</td>\n",
       "      <td>macOS</td>\n",
       "      <td>1.83</td>\n",
       "      <td>135195.3360</td>\n",
       "      <td>0</td>\n",
       "      <td>1</td>\n",
       "      <td>220.534624</td>\n",
       "    </tr>\n",
       "    <tr>\n",
       "      <th>4</th>\n",
       "      <td>Apple</td>\n",
       "      <td>Ultrabook</td>\n",
       "      <td>Intel Core i5 3.1GHz</td>\n",
       "      <td>8</td>\n",
       "      <td>256GB SSD</td>\n",
       "      <td>Intel Iris Plus Graphics 650</td>\n",
       "      <td>macOS</td>\n",
       "      <td>1.37</td>\n",
       "      <td>96095.8080</td>\n",
       "      <td>0</td>\n",
       "      <td>1</td>\n",
       "      <td>226.983005</td>\n",
       "    </tr>\n",
       "  </tbody>\n",
       "</table>\n",
       "</div>"
      ],
      "text/plain": [
       "  Company   TypeName                         Cpu  Ram               Memory  \\\n",
       "0   Apple  Ultrabook        Intel Core i5 2.3GHz    8            128GB SSD   \n",
       "1   Apple  Ultrabook        Intel Core i5 1.8GHz    8  128GB Flash Storage   \n",
       "2      HP   Notebook  Intel Core i5 7200U 2.5GHz    8            256GB SSD   \n",
       "3   Apple  Ultrabook        Intel Core i7 2.7GHz   16            512GB SSD   \n",
       "4   Apple  Ultrabook        Intel Core i5 3.1GHz    8            256GB SSD   \n",
       "\n",
       "                            Gpu  OpSys  Weight        Price  Touchscreen  Ips  \\\n",
       "0  Intel Iris Plus Graphics 640  macOS    1.37   71378.6832            0    1   \n",
       "1        Intel HD Graphics 6000  macOS    1.34   47895.5232            0    0   \n",
       "2         Intel HD Graphics 620  No OS    1.86   30636.0000            0    0   \n",
       "3            AMD Radeon Pro 455  macOS    1.83  135195.3360            0    1   \n",
       "4  Intel Iris Plus Graphics 650  macOS    1.37   96095.8080            0    1   \n",
       "\n",
       "          ppi  \n",
       "0  226.983005  \n",
       "1  127.677940  \n",
       "2  141.211998  \n",
       "3  220.534624  \n",
       "4  226.983005  "
      ]
     },
     "execution_count": 36,
     "metadata": {},
     "output_type": "execute_result"
    }
   ],
   "source": [
    "df.head()"
   ]
  },
  {
   "cell_type": "markdown",
   "id": "6fff5fda-8f09-4419-9b8e-59b053756821",
   "metadata": {},
   "source": [
    "#### CPU Brand"
   ]
  },
  {
   "cell_type": "code",
   "execution_count": 37,
   "id": "15b0cebc-575c-4f9b-800f-9eebd6ae580e",
   "metadata": {},
   "outputs": [
    {
     "data": {
      "text/plain": [
       "Cpu\n",
       "Intel Core i5 7200U 2.5GHz       190\n",
       "Intel Core i7 7700HQ 2.8GHz      146\n",
       "Intel Core i7 7500U 2.7GHz       134\n",
       "Intel Core i7 8550U 1.8GHz        73\n",
       "Intel Core i5 8250U 1.6GHz        72\n",
       "                                ... \n",
       "Intel Core i5 7200U 2.70GHz        1\n",
       "Intel Core M M7-6Y75 1.2GHz        1\n",
       "Intel Core M 6Y54 1.1GHz           1\n",
       "AMD E-Series 9000 2.2GHz           1\n",
       "Samsung Cortex A72&A53 2.0GHz      1\n",
       "Name: count, Length: 118, dtype: int64"
      ]
     },
     "execution_count": 37,
     "metadata": {},
     "output_type": "execute_result"
    }
   ],
   "source": [
    "df['Cpu'].value_counts()"
   ]
  },
  {
   "cell_type": "code",
   "execution_count": 38,
   "id": "99196db5-ce5c-4a16-8097-f09689bc22f1",
   "metadata": {},
   "outputs": [],
   "source": [
    "df['Cpu Name'] = df['Cpu'].apply(lambda x:\" \".join(x.split()[0:3]))"
   ]
  },
  {
   "cell_type": "code",
   "execution_count": 39,
   "id": "6dd3a2ff-a064-4342-886e-9d504626d674",
   "metadata": {},
   "outputs": [
    {
     "data": {
      "text/html": [
       "<div>\n",
       "<style scoped>\n",
       "    .dataframe tbody tr th:only-of-type {\n",
       "        vertical-align: middle;\n",
       "    }\n",
       "\n",
       "    .dataframe tbody tr th {\n",
       "        vertical-align: top;\n",
       "    }\n",
       "\n",
       "    .dataframe thead th {\n",
       "        text-align: right;\n",
       "    }\n",
       "</style>\n",
       "<table border=\"1\" class=\"dataframe\">\n",
       "  <thead>\n",
       "    <tr style=\"text-align: right;\">\n",
       "      <th></th>\n",
       "      <th>Company</th>\n",
       "      <th>TypeName</th>\n",
       "      <th>Cpu</th>\n",
       "      <th>Ram</th>\n",
       "      <th>Memory</th>\n",
       "      <th>Gpu</th>\n",
       "      <th>OpSys</th>\n",
       "      <th>Weight</th>\n",
       "      <th>Price</th>\n",
       "      <th>Touchscreen</th>\n",
       "      <th>Ips</th>\n",
       "      <th>ppi</th>\n",
       "      <th>Cpu Name</th>\n",
       "    </tr>\n",
       "  </thead>\n",
       "  <tbody>\n",
       "    <tr>\n",
       "      <th>0</th>\n",
       "      <td>Apple</td>\n",
       "      <td>Ultrabook</td>\n",
       "      <td>Intel Core i5 2.3GHz</td>\n",
       "      <td>8</td>\n",
       "      <td>128GB SSD</td>\n",
       "      <td>Intel Iris Plus Graphics 640</td>\n",
       "      <td>macOS</td>\n",
       "      <td>1.37</td>\n",
       "      <td>71378.6832</td>\n",
       "      <td>0</td>\n",
       "      <td>1</td>\n",
       "      <td>226.983005</td>\n",
       "      <td>Intel Core i5</td>\n",
       "    </tr>\n",
       "    <tr>\n",
       "      <th>1</th>\n",
       "      <td>Apple</td>\n",
       "      <td>Ultrabook</td>\n",
       "      <td>Intel Core i5 1.8GHz</td>\n",
       "      <td>8</td>\n",
       "      <td>128GB Flash Storage</td>\n",
       "      <td>Intel HD Graphics 6000</td>\n",
       "      <td>macOS</td>\n",
       "      <td>1.34</td>\n",
       "      <td>47895.5232</td>\n",
       "      <td>0</td>\n",
       "      <td>0</td>\n",
       "      <td>127.677940</td>\n",
       "      <td>Intel Core i5</td>\n",
       "    </tr>\n",
       "    <tr>\n",
       "      <th>2</th>\n",
       "      <td>HP</td>\n",
       "      <td>Notebook</td>\n",
       "      <td>Intel Core i5 7200U 2.5GHz</td>\n",
       "      <td>8</td>\n",
       "      <td>256GB SSD</td>\n",
       "      <td>Intel HD Graphics 620</td>\n",
       "      <td>No OS</td>\n",
       "      <td>1.86</td>\n",
       "      <td>30636.0000</td>\n",
       "      <td>0</td>\n",
       "      <td>0</td>\n",
       "      <td>141.211998</td>\n",
       "      <td>Intel Core i5</td>\n",
       "    </tr>\n",
       "    <tr>\n",
       "      <th>3</th>\n",
       "      <td>Apple</td>\n",
       "      <td>Ultrabook</td>\n",
       "      <td>Intel Core i7 2.7GHz</td>\n",
       "      <td>16</td>\n",
       "      <td>512GB SSD</td>\n",
       "      <td>AMD Radeon Pro 455</td>\n",
       "      <td>macOS</td>\n",
       "      <td>1.83</td>\n",
       "      <td>135195.3360</td>\n",
       "      <td>0</td>\n",
       "      <td>1</td>\n",
       "      <td>220.534624</td>\n",
       "      <td>Intel Core i7</td>\n",
       "    </tr>\n",
       "    <tr>\n",
       "      <th>4</th>\n",
       "      <td>Apple</td>\n",
       "      <td>Ultrabook</td>\n",
       "      <td>Intel Core i5 3.1GHz</td>\n",
       "      <td>8</td>\n",
       "      <td>256GB SSD</td>\n",
       "      <td>Intel Iris Plus Graphics 650</td>\n",
       "      <td>macOS</td>\n",
       "      <td>1.37</td>\n",
       "      <td>96095.8080</td>\n",
       "      <td>0</td>\n",
       "      <td>1</td>\n",
       "      <td>226.983005</td>\n",
       "      <td>Intel Core i5</td>\n",
       "    </tr>\n",
       "  </tbody>\n",
       "</table>\n",
       "</div>"
      ],
      "text/plain": [
       "  Company   TypeName                         Cpu  Ram               Memory  \\\n",
       "0   Apple  Ultrabook        Intel Core i5 2.3GHz    8            128GB SSD   \n",
       "1   Apple  Ultrabook        Intel Core i5 1.8GHz    8  128GB Flash Storage   \n",
       "2      HP   Notebook  Intel Core i5 7200U 2.5GHz    8            256GB SSD   \n",
       "3   Apple  Ultrabook        Intel Core i7 2.7GHz   16            512GB SSD   \n",
       "4   Apple  Ultrabook        Intel Core i5 3.1GHz    8            256GB SSD   \n",
       "\n",
       "                            Gpu  OpSys  Weight        Price  Touchscreen  Ips  \\\n",
       "0  Intel Iris Plus Graphics 640  macOS    1.37   71378.6832            0    1   \n",
       "1        Intel HD Graphics 6000  macOS    1.34   47895.5232            0    0   \n",
       "2         Intel HD Graphics 620  No OS    1.86   30636.0000            0    0   \n",
       "3            AMD Radeon Pro 455  macOS    1.83  135195.3360            0    1   \n",
       "4  Intel Iris Plus Graphics 650  macOS    1.37   96095.8080            0    1   \n",
       "\n",
       "          ppi       Cpu Name  \n",
       "0  226.983005  Intel Core i5  \n",
       "1  127.677940  Intel Core i5  \n",
       "2  141.211998  Intel Core i5  \n",
       "3  220.534624  Intel Core i7  \n",
       "4  226.983005  Intel Core i5  "
      ]
     },
     "execution_count": 39,
     "metadata": {},
     "output_type": "execute_result"
    }
   ],
   "source": [
    "df.head()"
   ]
  },
  {
   "cell_type": "code",
   "execution_count": 40,
   "id": "82c2cc6d-db60-4e27-a416-85798ef0bcd4",
   "metadata": {},
   "outputs": [],
   "source": [
    "def fetch_processor(text):\n",
    "    if text == 'Intel Core i7' or text == 'Intel Core i5' or text == 'Intel Core i3':\n",
    "        return text\n",
    "    else:\n",
    "        if text.split()[0] == 'Intel':\n",
    "            return 'Other Intel Processor'\n",
    "        else:\n",
    "            return 'AMD Processor'"
   ]
  },
  {
   "cell_type": "code",
   "execution_count": 41,
   "id": "875e326c-77a7-4c9d-a4b6-40bcba2cc5ec",
   "metadata": {},
   "outputs": [],
   "source": [
    "df['Cpu brand'] = df['Cpu Name'].apply(fetch_processor)"
   ]
  },
  {
   "cell_type": "code",
   "execution_count": 42,
   "id": "d9aad9a7-ac12-4173-b9f3-fcd31cc92494",
   "metadata": {},
   "outputs": [],
   "source": [
    "df.drop(columns=['Cpu','Cpu Name'],inplace=True)"
   ]
  },
  {
   "cell_type": "code",
   "execution_count": 43,
   "id": "522fd95e-f4ca-43f6-b597-bdb4b194e6e4",
   "metadata": {},
   "outputs": [
    {
     "data": {
      "text/html": [
       "<div>\n",
       "<style scoped>\n",
       "    .dataframe tbody tr th:only-of-type {\n",
       "        vertical-align: middle;\n",
       "    }\n",
       "\n",
       "    .dataframe tbody tr th {\n",
       "        vertical-align: top;\n",
       "    }\n",
       "\n",
       "    .dataframe thead th {\n",
       "        text-align: right;\n",
       "    }\n",
       "</style>\n",
       "<table border=\"1\" class=\"dataframe\">\n",
       "  <thead>\n",
       "    <tr style=\"text-align: right;\">\n",
       "      <th></th>\n",
       "      <th>Company</th>\n",
       "      <th>TypeName</th>\n",
       "      <th>Ram</th>\n",
       "      <th>Memory</th>\n",
       "      <th>Gpu</th>\n",
       "      <th>OpSys</th>\n",
       "      <th>Weight</th>\n",
       "      <th>Price</th>\n",
       "      <th>Touchscreen</th>\n",
       "      <th>Ips</th>\n",
       "      <th>ppi</th>\n",
       "      <th>Cpu brand</th>\n",
       "    </tr>\n",
       "  </thead>\n",
       "  <tbody>\n",
       "    <tr>\n",
       "      <th>0</th>\n",
       "      <td>Apple</td>\n",
       "      <td>Ultrabook</td>\n",
       "      <td>8</td>\n",
       "      <td>128GB SSD</td>\n",
       "      <td>Intel Iris Plus Graphics 640</td>\n",
       "      <td>macOS</td>\n",
       "      <td>1.37</td>\n",
       "      <td>71378.6832</td>\n",
       "      <td>0</td>\n",
       "      <td>1</td>\n",
       "      <td>226.983005</td>\n",
       "      <td>Intel Core i5</td>\n",
       "    </tr>\n",
       "    <tr>\n",
       "      <th>1</th>\n",
       "      <td>Apple</td>\n",
       "      <td>Ultrabook</td>\n",
       "      <td>8</td>\n",
       "      <td>128GB Flash Storage</td>\n",
       "      <td>Intel HD Graphics 6000</td>\n",
       "      <td>macOS</td>\n",
       "      <td>1.34</td>\n",
       "      <td>47895.5232</td>\n",
       "      <td>0</td>\n",
       "      <td>0</td>\n",
       "      <td>127.677940</td>\n",
       "      <td>Intel Core i5</td>\n",
       "    </tr>\n",
       "    <tr>\n",
       "      <th>2</th>\n",
       "      <td>HP</td>\n",
       "      <td>Notebook</td>\n",
       "      <td>8</td>\n",
       "      <td>256GB SSD</td>\n",
       "      <td>Intel HD Graphics 620</td>\n",
       "      <td>No OS</td>\n",
       "      <td>1.86</td>\n",
       "      <td>30636.0000</td>\n",
       "      <td>0</td>\n",
       "      <td>0</td>\n",
       "      <td>141.211998</td>\n",
       "      <td>Intel Core i5</td>\n",
       "    </tr>\n",
       "    <tr>\n",
       "      <th>3</th>\n",
       "      <td>Apple</td>\n",
       "      <td>Ultrabook</td>\n",
       "      <td>16</td>\n",
       "      <td>512GB SSD</td>\n",
       "      <td>AMD Radeon Pro 455</td>\n",
       "      <td>macOS</td>\n",
       "      <td>1.83</td>\n",
       "      <td>135195.3360</td>\n",
       "      <td>0</td>\n",
       "      <td>1</td>\n",
       "      <td>220.534624</td>\n",
       "      <td>Intel Core i7</td>\n",
       "    </tr>\n",
       "    <tr>\n",
       "      <th>4</th>\n",
       "      <td>Apple</td>\n",
       "      <td>Ultrabook</td>\n",
       "      <td>8</td>\n",
       "      <td>256GB SSD</td>\n",
       "      <td>Intel Iris Plus Graphics 650</td>\n",
       "      <td>macOS</td>\n",
       "      <td>1.37</td>\n",
       "      <td>96095.8080</td>\n",
       "      <td>0</td>\n",
       "      <td>1</td>\n",
       "      <td>226.983005</td>\n",
       "      <td>Intel Core i5</td>\n",
       "    </tr>\n",
       "  </tbody>\n",
       "</table>\n",
       "</div>"
      ],
      "text/plain": [
       "  Company   TypeName  Ram               Memory                           Gpu  \\\n",
       "0   Apple  Ultrabook    8            128GB SSD  Intel Iris Plus Graphics 640   \n",
       "1   Apple  Ultrabook    8  128GB Flash Storage        Intel HD Graphics 6000   \n",
       "2      HP   Notebook    8            256GB SSD         Intel HD Graphics 620   \n",
       "3   Apple  Ultrabook   16            512GB SSD            AMD Radeon Pro 455   \n",
       "4   Apple  Ultrabook    8            256GB SSD  Intel Iris Plus Graphics 650   \n",
       "\n",
       "   OpSys  Weight        Price  Touchscreen  Ips         ppi      Cpu brand  \n",
       "0  macOS    1.37   71378.6832            0    1  226.983005  Intel Core i5  \n",
       "1  macOS    1.34   47895.5232            0    0  127.677940  Intel Core i5  \n",
       "2  No OS    1.86   30636.0000            0    0  141.211998  Intel Core i5  \n",
       "3  macOS    1.83  135195.3360            0    1  220.534624  Intel Core i7  \n",
       "4  macOS    1.37   96095.8080            0    1  226.983005  Intel Core i5  "
      ]
     },
     "execution_count": 43,
     "metadata": {},
     "output_type": "execute_result"
    }
   ],
   "source": [
    "df.head()"
   ]
  },
  {
   "cell_type": "markdown",
   "id": "bae3d1bf-f73c-4db6-8f1f-f25125100f3f",
   "metadata": {},
   "source": [
    "#### GPU Brand"
   ]
  },
  {
   "cell_type": "code",
   "execution_count": 44,
   "id": "cb20adfe-910f-4732-be3b-0c137b59f0f3",
   "metadata": {},
   "outputs": [
    {
     "data": {
      "text/plain": [
       "Gpu\n",
       "Intel HD Graphics 620      281\n",
       "Intel HD Graphics 520      185\n",
       "Intel UHD Graphics 620      68\n",
       "Nvidia GeForce GTX 1050     66\n",
       "Nvidia GeForce GTX 1060     48\n",
       "                          ... \n",
       "Nvidia Quadro M500M          1\n",
       "AMD Radeon R7 M360           1\n",
       "Nvidia Quadro M3000M         1\n",
       "Nvidia GeForce 960M          1\n",
       "ARM Mali T860 MP4            1\n",
       "Name: count, Length: 110, dtype: int64"
      ]
     },
     "execution_count": 44,
     "metadata": {},
     "output_type": "execute_result"
    }
   ],
   "source": [
    "df['Gpu'].value_counts()"
   ]
  },
  {
   "cell_type": "code",
   "execution_count": 45,
   "id": "a1d632e8-ed47-4bed-a984-b6a4672d0c53",
   "metadata": {},
   "outputs": [],
   "source": [
    "df['Gpu brand'] = df['Gpu'].apply(lambda x:x.split()[0])"
   ]
  },
  {
   "cell_type": "code",
   "execution_count": 46,
   "id": "d862ab57-22b4-410b-aa65-dfeb608bf730",
   "metadata": {},
   "outputs": [
    {
     "data": {
      "text/plain": [
       "Gpu brand\n",
       "Intel     722\n",
       "Nvidia    400\n",
       "AMD       180\n",
       "ARM         1\n",
       "Name: count, dtype: int64"
      ]
     },
     "execution_count": 46,
     "metadata": {},
     "output_type": "execute_result"
    }
   ],
   "source": [
    "df['Gpu brand'].value_counts()"
   ]
  },
  {
   "cell_type": "code",
   "execution_count": 47,
   "id": "772b6c9a-342f-4fb0-ac5b-e97d5458a2fc",
   "metadata": {},
   "outputs": [],
   "source": [
    "df = df[df['Gpu brand'] != 'ARM']"
   ]
  },
  {
   "cell_type": "code",
   "execution_count": 48,
   "id": "4e30fd48-0b4f-42a7-94d3-1a6add582d5d",
   "metadata": {},
   "outputs": [
    {
     "data": {
      "text/plain": [
       "Gpu brand\n",
       "Intel     722\n",
       "Nvidia    400\n",
       "AMD       180\n",
       "Name: count, dtype: int64"
      ]
     },
     "execution_count": 48,
     "metadata": {},
     "output_type": "execute_result"
    }
   ],
   "source": [
    "df['Gpu brand'].value_counts()"
   ]
  },
  {
   "cell_type": "code",
   "execution_count": 49,
   "id": "6b92dc81-075a-4bc2-aab0-365a21a21892",
   "metadata": {},
   "outputs": [],
   "source": [
    "df.drop(columns=['Gpu'],inplace=True)"
   ]
  },
  {
   "cell_type": "code",
   "execution_count": 50,
   "id": "df49394f-5f4b-4567-b602-2784a2b9a062",
   "metadata": {},
   "outputs": [
    {
     "data": {
      "text/html": [
       "<div>\n",
       "<style scoped>\n",
       "    .dataframe tbody tr th:only-of-type {\n",
       "        vertical-align: middle;\n",
       "    }\n",
       "\n",
       "    .dataframe tbody tr th {\n",
       "        vertical-align: top;\n",
       "    }\n",
       "\n",
       "    .dataframe thead th {\n",
       "        text-align: right;\n",
       "    }\n",
       "</style>\n",
       "<table border=\"1\" class=\"dataframe\">\n",
       "  <thead>\n",
       "    <tr style=\"text-align: right;\">\n",
       "      <th></th>\n",
       "      <th>Company</th>\n",
       "      <th>TypeName</th>\n",
       "      <th>Ram</th>\n",
       "      <th>Memory</th>\n",
       "      <th>OpSys</th>\n",
       "      <th>Weight</th>\n",
       "      <th>Price</th>\n",
       "      <th>Touchscreen</th>\n",
       "      <th>Ips</th>\n",
       "      <th>ppi</th>\n",
       "      <th>Cpu brand</th>\n",
       "      <th>Gpu brand</th>\n",
       "    </tr>\n",
       "  </thead>\n",
       "  <tbody>\n",
       "    <tr>\n",
       "      <th>0</th>\n",
       "      <td>Apple</td>\n",
       "      <td>Ultrabook</td>\n",
       "      <td>8</td>\n",
       "      <td>128GB SSD</td>\n",
       "      <td>macOS</td>\n",
       "      <td>1.37</td>\n",
       "      <td>71378.6832</td>\n",
       "      <td>0</td>\n",
       "      <td>1</td>\n",
       "      <td>226.983005</td>\n",
       "      <td>Intel Core i5</td>\n",
       "      <td>Intel</td>\n",
       "    </tr>\n",
       "    <tr>\n",
       "      <th>1</th>\n",
       "      <td>Apple</td>\n",
       "      <td>Ultrabook</td>\n",
       "      <td>8</td>\n",
       "      <td>128GB Flash Storage</td>\n",
       "      <td>macOS</td>\n",
       "      <td>1.34</td>\n",
       "      <td>47895.5232</td>\n",
       "      <td>0</td>\n",
       "      <td>0</td>\n",
       "      <td>127.677940</td>\n",
       "      <td>Intel Core i5</td>\n",
       "      <td>Intel</td>\n",
       "    </tr>\n",
       "    <tr>\n",
       "      <th>2</th>\n",
       "      <td>HP</td>\n",
       "      <td>Notebook</td>\n",
       "      <td>8</td>\n",
       "      <td>256GB SSD</td>\n",
       "      <td>No OS</td>\n",
       "      <td>1.86</td>\n",
       "      <td>30636.0000</td>\n",
       "      <td>0</td>\n",
       "      <td>0</td>\n",
       "      <td>141.211998</td>\n",
       "      <td>Intel Core i5</td>\n",
       "      <td>Intel</td>\n",
       "    </tr>\n",
       "    <tr>\n",
       "      <th>3</th>\n",
       "      <td>Apple</td>\n",
       "      <td>Ultrabook</td>\n",
       "      <td>16</td>\n",
       "      <td>512GB SSD</td>\n",
       "      <td>macOS</td>\n",
       "      <td>1.83</td>\n",
       "      <td>135195.3360</td>\n",
       "      <td>0</td>\n",
       "      <td>1</td>\n",
       "      <td>220.534624</td>\n",
       "      <td>Intel Core i7</td>\n",
       "      <td>AMD</td>\n",
       "    </tr>\n",
       "    <tr>\n",
       "      <th>4</th>\n",
       "      <td>Apple</td>\n",
       "      <td>Ultrabook</td>\n",
       "      <td>8</td>\n",
       "      <td>256GB SSD</td>\n",
       "      <td>macOS</td>\n",
       "      <td>1.37</td>\n",
       "      <td>96095.8080</td>\n",
       "      <td>0</td>\n",
       "      <td>1</td>\n",
       "      <td>226.983005</td>\n",
       "      <td>Intel Core i5</td>\n",
       "      <td>Intel</td>\n",
       "    </tr>\n",
       "  </tbody>\n",
       "</table>\n",
       "</div>"
      ],
      "text/plain": [
       "  Company   TypeName  Ram               Memory  OpSys  Weight        Price  \\\n",
       "0   Apple  Ultrabook    8            128GB SSD  macOS    1.37   71378.6832   \n",
       "1   Apple  Ultrabook    8  128GB Flash Storage  macOS    1.34   47895.5232   \n",
       "2      HP   Notebook    8            256GB SSD  No OS    1.86   30636.0000   \n",
       "3   Apple  Ultrabook   16            512GB SSD  macOS    1.83  135195.3360   \n",
       "4   Apple  Ultrabook    8            256GB SSD  macOS    1.37   96095.8080   \n",
       "\n",
       "   Touchscreen  Ips         ppi      Cpu brand Gpu brand  \n",
       "0            0    1  226.983005  Intel Core i5     Intel  \n",
       "1            0    0  127.677940  Intel Core i5     Intel  \n",
       "2            0    0  141.211998  Intel Core i5     Intel  \n",
       "3            0    1  220.534624  Intel Core i7       AMD  \n",
       "4            0    1  226.983005  Intel Core i5     Intel  "
      ]
     },
     "execution_count": 50,
     "metadata": {},
     "output_type": "execute_result"
    }
   ],
   "source": [
    "df.head()"
   ]
  },
  {
   "cell_type": "markdown",
   "id": "17effac4-492c-4db2-8643-7e3ffd29c0b3",
   "metadata": {},
   "source": [
    "#### OS"
   ]
  },
  {
   "cell_type": "code",
   "execution_count": 51,
   "id": "46a7d305-bba2-4ef2-a5dc-4e7ee5b316b1",
   "metadata": {},
   "outputs": [
    {
     "data": {
      "text/plain": [
       "OpSys\n",
       "Windows 10      1072\n",
       "No OS             66\n",
       "Linux             62\n",
       "Windows 7         45\n",
       "Chrome OS         26\n",
       "macOS             13\n",
       "Mac OS X           8\n",
       "Windows 10 S       8\n",
       "Android            2\n",
       "Name: count, dtype: int64"
      ]
     },
     "execution_count": 51,
     "metadata": {},
     "output_type": "execute_result"
    }
   ],
   "source": [
    "df['OpSys'].value_counts()\n"
   ]
  },
  {
   "cell_type": "code",
   "execution_count": 52,
   "id": "3326f24d-d00a-49bb-bba0-ceeec274243e",
   "metadata": {},
   "outputs": [],
   "source": [
    "def cat_os(inp):\n",
    "    if inp == 'Windows 10' or inp == 'Windows 7' or inp == 'Windows 10 S':\n",
    "        return 'Windows'\n",
    "    elif inp == 'macOS' or inp == 'Mac OS X':\n",
    "        return 'Mac'\n",
    "    else:\n",
    "        return 'Others/No OS/Linux'"
   ]
  },
  {
   "cell_type": "code",
   "execution_count": 53,
   "id": "2c12a519-573c-4942-89be-2b7c32742e7a",
   "metadata": {},
   "outputs": [],
   "source": [
    "df['os'] = df['OpSys'].apply(cat_os)\n"
   ]
  },
  {
   "cell_type": "code",
   "execution_count": 54,
   "id": "5e5b64a6-ff39-44a2-8e85-73e6c436892b",
   "metadata": {},
   "outputs": [
    {
     "data": {
      "text/html": [
       "<div>\n",
       "<style scoped>\n",
       "    .dataframe tbody tr th:only-of-type {\n",
       "        vertical-align: middle;\n",
       "    }\n",
       "\n",
       "    .dataframe tbody tr th {\n",
       "        vertical-align: top;\n",
       "    }\n",
       "\n",
       "    .dataframe thead th {\n",
       "        text-align: right;\n",
       "    }\n",
       "</style>\n",
       "<table border=\"1\" class=\"dataframe\">\n",
       "  <thead>\n",
       "    <tr style=\"text-align: right;\">\n",
       "      <th></th>\n",
       "      <th>Company</th>\n",
       "      <th>TypeName</th>\n",
       "      <th>Ram</th>\n",
       "      <th>Memory</th>\n",
       "      <th>OpSys</th>\n",
       "      <th>Weight</th>\n",
       "      <th>Price</th>\n",
       "      <th>Touchscreen</th>\n",
       "      <th>Ips</th>\n",
       "      <th>ppi</th>\n",
       "      <th>Cpu brand</th>\n",
       "      <th>Gpu brand</th>\n",
       "      <th>os</th>\n",
       "    </tr>\n",
       "  </thead>\n",
       "  <tbody>\n",
       "    <tr>\n",
       "      <th>0</th>\n",
       "      <td>Apple</td>\n",
       "      <td>Ultrabook</td>\n",
       "      <td>8</td>\n",
       "      <td>128GB SSD</td>\n",
       "      <td>macOS</td>\n",
       "      <td>1.37</td>\n",
       "      <td>71378.6832</td>\n",
       "      <td>0</td>\n",
       "      <td>1</td>\n",
       "      <td>226.983005</td>\n",
       "      <td>Intel Core i5</td>\n",
       "      <td>Intel</td>\n",
       "      <td>Mac</td>\n",
       "    </tr>\n",
       "    <tr>\n",
       "      <th>1</th>\n",
       "      <td>Apple</td>\n",
       "      <td>Ultrabook</td>\n",
       "      <td>8</td>\n",
       "      <td>128GB Flash Storage</td>\n",
       "      <td>macOS</td>\n",
       "      <td>1.34</td>\n",
       "      <td>47895.5232</td>\n",
       "      <td>0</td>\n",
       "      <td>0</td>\n",
       "      <td>127.677940</td>\n",
       "      <td>Intel Core i5</td>\n",
       "      <td>Intel</td>\n",
       "      <td>Mac</td>\n",
       "    </tr>\n",
       "    <tr>\n",
       "      <th>2</th>\n",
       "      <td>HP</td>\n",
       "      <td>Notebook</td>\n",
       "      <td>8</td>\n",
       "      <td>256GB SSD</td>\n",
       "      <td>No OS</td>\n",
       "      <td>1.86</td>\n",
       "      <td>30636.0000</td>\n",
       "      <td>0</td>\n",
       "      <td>0</td>\n",
       "      <td>141.211998</td>\n",
       "      <td>Intel Core i5</td>\n",
       "      <td>Intel</td>\n",
       "      <td>Others/No OS/Linux</td>\n",
       "    </tr>\n",
       "    <tr>\n",
       "      <th>3</th>\n",
       "      <td>Apple</td>\n",
       "      <td>Ultrabook</td>\n",
       "      <td>16</td>\n",
       "      <td>512GB SSD</td>\n",
       "      <td>macOS</td>\n",
       "      <td>1.83</td>\n",
       "      <td>135195.3360</td>\n",
       "      <td>0</td>\n",
       "      <td>1</td>\n",
       "      <td>220.534624</td>\n",
       "      <td>Intel Core i7</td>\n",
       "      <td>AMD</td>\n",
       "      <td>Mac</td>\n",
       "    </tr>\n",
       "    <tr>\n",
       "      <th>4</th>\n",
       "      <td>Apple</td>\n",
       "      <td>Ultrabook</td>\n",
       "      <td>8</td>\n",
       "      <td>256GB SSD</td>\n",
       "      <td>macOS</td>\n",
       "      <td>1.37</td>\n",
       "      <td>96095.8080</td>\n",
       "      <td>0</td>\n",
       "      <td>1</td>\n",
       "      <td>226.983005</td>\n",
       "      <td>Intel Core i5</td>\n",
       "      <td>Intel</td>\n",
       "      <td>Mac</td>\n",
       "    </tr>\n",
       "  </tbody>\n",
       "</table>\n",
       "</div>"
      ],
      "text/plain": [
       "  Company   TypeName  Ram               Memory  OpSys  Weight        Price  \\\n",
       "0   Apple  Ultrabook    8            128GB SSD  macOS    1.37   71378.6832   \n",
       "1   Apple  Ultrabook    8  128GB Flash Storage  macOS    1.34   47895.5232   \n",
       "2      HP   Notebook    8            256GB SSD  No OS    1.86   30636.0000   \n",
       "3   Apple  Ultrabook   16            512GB SSD  macOS    1.83  135195.3360   \n",
       "4   Apple  Ultrabook    8            256GB SSD  macOS    1.37   96095.8080   \n",
       "\n",
       "   Touchscreen  Ips         ppi      Cpu brand Gpu brand                  os  \n",
       "0            0    1  226.983005  Intel Core i5     Intel                 Mac  \n",
       "1            0    0  127.677940  Intel Core i5     Intel                 Mac  \n",
       "2            0    0  141.211998  Intel Core i5     Intel  Others/No OS/Linux  \n",
       "3            0    1  220.534624  Intel Core i7       AMD                 Mac  \n",
       "4            0    1  226.983005  Intel Core i5     Intel                 Mac  "
      ]
     },
     "execution_count": 54,
     "metadata": {},
     "output_type": "execute_result"
    }
   ],
   "source": [
    "df.head()"
   ]
  },
  {
   "cell_type": "code",
   "execution_count": 55,
   "id": "eb8ccacb-f9a9-4429-bbe3-69f386d40a2a",
   "metadata": {},
   "outputs": [],
   "source": [
    "df.drop(columns=['OpSys'],inplace=True)"
   ]
  },
  {
   "cell_type": "markdown",
   "id": "c0a6ab20-1893-4334-842e-1fe7fbdc3aab",
   "metadata": {},
   "source": [
    "#### Memory"
   ]
  },
  {
   "cell_type": "code",
   "execution_count": 56,
   "id": "bd7b0186-99ab-4f20-835e-5517a1ef3a29",
   "metadata": {},
   "outputs": [
    {
     "data": {
      "text/plain": [
       "Memory\n",
       "256GB SSD                        412\n",
       "1TB HDD                          223\n",
       "500GB HDD                        132\n",
       "512GB SSD                        118\n",
       "128GB SSD +  1TB HDD              94\n",
       "128GB SSD                         76\n",
       "256GB SSD +  1TB HDD              73\n",
       "32GB Flash Storage                37\n",
       "2TB HDD                           16\n",
       "64GB Flash Storage                15\n",
       "1TB SSD                           14\n",
       "512GB SSD +  1TB HDD              14\n",
       "256GB SSD +  2TB HDD              10\n",
       "1.0TB Hybrid                       9\n",
       "256GB Flash Storage                8\n",
       "16GB Flash Storage                 7\n",
       "32GB SSD                           6\n",
       "180GB SSD                          5\n",
       "128GB Flash Storage                4\n",
       "16GB SSD                           3\n",
       "512GB SSD +  2TB HDD               3\n",
       "128GB SSD +  2TB HDD               2\n",
       "256GB SSD +  256GB SSD             2\n",
       "512GB Flash Storage                2\n",
       "1TB SSD +  1TB HDD                 2\n",
       "256GB SSD +  500GB HDD             2\n",
       "64GB SSD                           1\n",
       "512GB SSD +  512GB SSD             1\n",
       "64GB Flash Storage +  1TB HDD      1\n",
       "1TB HDD +  1TB HDD                 1\n",
       "512GB SSD +  256GB SSD             1\n",
       "32GB HDD                           1\n",
       "128GB HDD                          1\n",
       "240GB SSD                          1\n",
       "8GB SSD                            1\n",
       "508GB Hybrid                       1\n",
       "1.0TB HDD                          1\n",
       "512GB SSD +  1.0TB Hybrid          1\n",
       "256GB SSD +  1.0TB Hybrid          1\n",
       "Name: count, dtype: int64"
      ]
     },
     "execution_count": 56,
     "metadata": {},
     "output_type": "execute_result"
    }
   ],
   "source": [
    "df['Memory'].value_counts()"
   ]
  },
  {
   "cell_type": "code",
   "execution_count": 57,
   "id": "efbed61c-6a6f-467e-886e-4040ba897ec3",
   "metadata": {},
   "outputs": [
    {
     "name": "stderr",
     "output_type": "stream",
     "text": [
      "<>:4: SyntaxWarning: invalid escape sequence '\\.'\n",
      "<>:4: SyntaxWarning: invalid escape sequence '\\.'\n",
      "C:\\Users\\freev\\AppData\\Local\\Temp\\ipykernel_4124\\2834611207.py:4: SyntaxWarning: invalid escape sequence '\\.'\n",
      "  df['Memory'] = df['Memory'].astype(str).replace('\\.0', '', regex=True)\n",
      "C:\\Users\\freev\\AppData\\Local\\Temp\\ipykernel_4124\\2834611207.py:16: FutureWarning: A value is trying to be set on a copy of a DataFrame or Series through chained assignment using an inplace method.\n",
      "The behavior will change in pandas 3.0. This inplace method will never work because the intermediate object on which we are setting values always behaves as a copy.\n",
      "\n",
      "For example, when doing 'df[col].method(value, inplace=True)', try using 'df.method({col: value}, inplace=True)' or df[col] = df[col].method(value) instead, to perform the operation inplace on the original object.\n",
      "\n",
      "\n",
      "  df[\"second\"].fillna(\"0\", inplace=True)  # Ensures that 'second' is not None\n"
     ]
    },
    {
     "data": {
      "text/html": [
       "<div>\n",
       "<style scoped>\n",
       "    .dataframe tbody tr th:only-of-type {\n",
       "        vertical-align: middle;\n",
       "    }\n",
       "\n",
       "    .dataframe tbody tr th {\n",
       "        vertical-align: top;\n",
       "    }\n",
       "\n",
       "    .dataframe thead th {\n",
       "        text-align: right;\n",
       "    }\n",
       "</style>\n",
       "<table border=\"1\" class=\"dataframe\">\n",
       "  <thead>\n",
       "    <tr style=\"text-align: right;\">\n",
       "      <th></th>\n",
       "      <th>Company</th>\n",
       "      <th>TypeName</th>\n",
       "      <th>Ram</th>\n",
       "      <th>Memory</th>\n",
       "      <th>Weight</th>\n",
       "      <th>Price</th>\n",
       "      <th>Touchscreen</th>\n",
       "      <th>Ips</th>\n",
       "      <th>ppi</th>\n",
       "      <th>Cpu brand</th>\n",
       "      <th>Gpu brand</th>\n",
       "      <th>os</th>\n",
       "      <th>HDD</th>\n",
       "      <th>SSD</th>\n",
       "      <th>Hybrid</th>\n",
       "      <th>Flash_Storage</th>\n",
       "    </tr>\n",
       "  </thead>\n",
       "  <tbody>\n",
       "    <tr>\n",
       "      <th>0</th>\n",
       "      <td>Apple</td>\n",
       "      <td>Ultrabook</td>\n",
       "      <td>8</td>\n",
       "      <td>128 SSD</td>\n",
       "      <td>1.37</td>\n",
       "      <td>71378.6832</td>\n",
       "      <td>0</td>\n",
       "      <td>1</td>\n",
       "      <td>226.983005</td>\n",
       "      <td>Intel Core i5</td>\n",
       "      <td>Intel</td>\n",
       "      <td>Mac</td>\n",
       "      <td>0</td>\n",
       "      <td>128</td>\n",
       "      <td>0</td>\n",
       "      <td>0</td>\n",
       "    </tr>\n",
       "    <tr>\n",
       "      <th>1</th>\n",
       "      <td>Apple</td>\n",
       "      <td>Ultrabook</td>\n",
       "      <td>8</td>\n",
       "      <td>128 Flash Storage</td>\n",
       "      <td>1.34</td>\n",
       "      <td>47895.5232</td>\n",
       "      <td>0</td>\n",
       "      <td>0</td>\n",
       "      <td>127.677940</td>\n",
       "      <td>Intel Core i5</td>\n",
       "      <td>Intel</td>\n",
       "      <td>Mac</td>\n",
       "      <td>0</td>\n",
       "      <td>0</td>\n",
       "      <td>0</td>\n",
       "      <td>128</td>\n",
       "    </tr>\n",
       "    <tr>\n",
       "      <th>2</th>\n",
       "      <td>HP</td>\n",
       "      <td>Notebook</td>\n",
       "      <td>8</td>\n",
       "      <td>256 SSD</td>\n",
       "      <td>1.86</td>\n",
       "      <td>30636.0000</td>\n",
       "      <td>0</td>\n",
       "      <td>0</td>\n",
       "      <td>141.211998</td>\n",
       "      <td>Intel Core i5</td>\n",
       "      <td>Intel</td>\n",
       "      <td>Others/No OS/Linux</td>\n",
       "      <td>0</td>\n",
       "      <td>256</td>\n",
       "      <td>0</td>\n",
       "      <td>0</td>\n",
       "    </tr>\n",
       "    <tr>\n",
       "      <th>3</th>\n",
       "      <td>Apple</td>\n",
       "      <td>Ultrabook</td>\n",
       "      <td>16</td>\n",
       "      <td>512 SSD</td>\n",
       "      <td>1.83</td>\n",
       "      <td>135195.3360</td>\n",
       "      <td>0</td>\n",
       "      <td>1</td>\n",
       "      <td>220.534624</td>\n",
       "      <td>Intel Core i7</td>\n",
       "      <td>AMD</td>\n",
       "      <td>Mac</td>\n",
       "      <td>0</td>\n",
       "      <td>512</td>\n",
       "      <td>0</td>\n",
       "      <td>0</td>\n",
       "    </tr>\n",
       "    <tr>\n",
       "      <th>4</th>\n",
       "      <td>Apple</td>\n",
       "      <td>Ultrabook</td>\n",
       "      <td>8</td>\n",
       "      <td>256 SSD</td>\n",
       "      <td>1.37</td>\n",
       "      <td>96095.8080</td>\n",
       "      <td>0</td>\n",
       "      <td>1</td>\n",
       "      <td>226.983005</td>\n",
       "      <td>Intel Core i5</td>\n",
       "      <td>Intel</td>\n",
       "      <td>Mac</td>\n",
       "      <td>0</td>\n",
       "      <td>256</td>\n",
       "      <td>0</td>\n",
       "      <td>0</td>\n",
       "    </tr>\n",
       "  </tbody>\n",
       "</table>\n",
       "</div>"
      ],
      "text/plain": [
       "  Company   TypeName  Ram             Memory  Weight        Price  \\\n",
       "0   Apple  Ultrabook    8            128 SSD    1.37   71378.6832   \n",
       "1   Apple  Ultrabook    8  128 Flash Storage    1.34   47895.5232   \n",
       "2      HP   Notebook    8            256 SSD    1.86   30636.0000   \n",
       "3   Apple  Ultrabook   16            512 SSD    1.83  135195.3360   \n",
       "4   Apple  Ultrabook    8            256 SSD    1.37   96095.8080   \n",
       "\n",
       "   Touchscreen  Ips         ppi      Cpu brand Gpu brand                  os  \\\n",
       "0            0    1  226.983005  Intel Core i5     Intel                 Mac   \n",
       "1            0    0  127.677940  Intel Core i5     Intel                 Mac   \n",
       "2            0    0  141.211998  Intel Core i5     Intel  Others/No OS/Linux   \n",
       "3            0    1  220.534624  Intel Core i7       AMD                 Mac   \n",
       "4            0    1  226.983005  Intel Core i5     Intel                 Mac   \n",
       "\n",
       "   HDD  SSD  Hybrid  Flash_Storage  \n",
       "0    0  128       0              0  \n",
       "1    0    0       0            128  \n",
       "2    0  256       0              0  \n",
       "3    0  512       0              0  \n",
       "4    0  256       0              0  "
      ]
     },
     "execution_count": 57,
     "metadata": {},
     "output_type": "execute_result"
    }
   ],
   "source": [
    "import pandas as pd\n",
    "\n",
    "# Replace '.0' and remove 'GB' and 'TB'\n",
    "df['Memory'] = df['Memory'].astype(str).replace('\\.0', '', regex=True)\n",
    "df[\"Memory\"] = df[\"Memory\"].str.replace('GB', '')\n",
    "df[\"Memory\"] = df[\"Memory\"].str.replace('TB', '000')\n",
    "\n",
    "# Split the 'Memory' column into two parts\n",
    "new = df[\"Memory\"].str.split(\"+\", n=1, expand=True)\n",
    "\n",
    "# Clean and strip spaces\n",
    "df[\"first\"] = new[0].str.strip()\n",
    "\n",
    "# Check if the second part exists and replace None with \"0\"\n",
    "df[\"second\"] = new[1].str.strip() if new.shape[1] > 1 else \"0\"\n",
    "df[\"second\"].fillna(\"0\", inplace=True)  # Ensures that 'second' is not None\n",
    "\n",
    "# Create binary flags for storage types before numeric conversion\n",
    "df[\"Layer1HDD\"] = df[\"first\"].apply(lambda x: 1 if \"HDD\" in x else 0)\n",
    "df[\"Layer1SSD\"] = df[\"first\"].apply(lambda x: 1 if \"SSD\" in x else 0)\n",
    "df[\"Layer1Hybrid\"] = df[\"first\"].apply(lambda x: 1 if \"Hybrid\" in x else 0)\n",
    "df[\"Layer1Flash_Storage\"] = df[\"first\"].apply(lambda x: 1 if \"Flash Storage\" in x else 0)\n",
    "\n",
    "df[\"Layer2HDD\"] = df[\"second\"].apply(lambda x: 1 if \"HDD\" in x else 0)\n",
    "df[\"Layer2SSD\"] = df[\"second\"].apply(lambda x: 1 if \"SSD\" in x else 0)\n",
    "df[\"Layer2Hybrid\"] = df[\"second\"].apply(lambda x: 1 if \"Hybrid\" in x else 0)\n",
    "df[\"Layer2Flash_Storage\"] = df[\"second\"].apply(lambda x: 1 if \"Flash Storage\" in x else 0)\n",
    "\n",
    "# Replace non-numeric characters in 'first' and 'second'\n",
    "df[\"first\"] = df[\"first\"].str.replace(r'\\D', '', regex=True)\n",
    "df[\"second\"] = df[\"second\"].str.replace(r'\\D', '', regex=True)\n",
    "\n",
    "# Convert the cleaned 'first' and 'second' columns to integers\n",
    "df[\"first\"] = df[\"first\"].astype(int)\n",
    "df[\"second\"] = df[\"second\"].astype(int)\n",
    "\n",
    "# Calculate the total capacities for each storage type\n",
    "df[\"HDD\"] = df[\"first\"] * df[\"Layer1HDD\"] + df[\"second\"] * df[\"Layer2HDD\"]\n",
    "df[\"SSD\"] = df[\"first\"] * df[\"Layer1SSD\"] + df[\"second\"] * df[\"Layer2SSD\"]\n",
    "df[\"Hybrid\"] = df[\"first\"] * df[\"Layer1Hybrid\"] + df[\"second\"] * df[\"Layer2Hybrid\"]\n",
    "df[\"Flash_Storage\"] = df[\"first\"] * df[\"Layer1Flash_Storage\"] + df[\"second\"] * df[\"Layer2Flash_Storage\"]\n",
    "\n",
    "# Drop unnecessary columns\n",
    "df.drop(columns=['first', 'second', 'Layer1HDD', 'Layer1SSD', 'Layer1Hybrid',\n",
    "                 'Layer1Flash_Storage', 'Layer2HDD', 'Layer2SSD', 'Layer2Hybrid',\n",
    "                 'Layer2Flash_Storage'], inplace=True)\n",
    "df.head()"
   ]
  },
  {
   "cell_type": "code",
   "execution_count": 58,
   "id": "2e23fe99-c48b-4665-a431-5b51e724b95f",
   "metadata": {},
   "outputs": [],
   "source": [
    "df.drop(columns=['Memory'],inplace=True)\n",
    "df.drop(columns=['Hybrid','Flash_Storage'],inplace=True)"
   ]
  },
  {
   "cell_type": "code",
   "execution_count": 59,
   "id": "9392db83-0537-4c7d-be74-f8732f91ab30",
   "metadata": {},
   "outputs": [
    {
     "data": {
      "text/html": [
       "<div>\n",
       "<style scoped>\n",
       "    .dataframe tbody tr th:only-of-type {\n",
       "        vertical-align: middle;\n",
       "    }\n",
       "\n",
       "    .dataframe tbody tr th {\n",
       "        vertical-align: top;\n",
       "    }\n",
       "\n",
       "    .dataframe thead th {\n",
       "        text-align: right;\n",
       "    }\n",
       "</style>\n",
       "<table border=\"1\" class=\"dataframe\">\n",
       "  <thead>\n",
       "    <tr style=\"text-align: right;\">\n",
       "      <th></th>\n",
       "      <th>Company</th>\n",
       "      <th>TypeName</th>\n",
       "      <th>Ram</th>\n",
       "      <th>Weight</th>\n",
       "      <th>Price</th>\n",
       "      <th>Touchscreen</th>\n",
       "      <th>Ips</th>\n",
       "      <th>ppi</th>\n",
       "      <th>Cpu brand</th>\n",
       "      <th>Gpu brand</th>\n",
       "      <th>os</th>\n",
       "      <th>HDD</th>\n",
       "      <th>SSD</th>\n",
       "    </tr>\n",
       "  </thead>\n",
       "  <tbody>\n",
       "    <tr>\n",
       "      <th>0</th>\n",
       "      <td>Apple</td>\n",
       "      <td>Ultrabook</td>\n",
       "      <td>8</td>\n",
       "      <td>1.37</td>\n",
       "      <td>71378.6832</td>\n",
       "      <td>0</td>\n",
       "      <td>1</td>\n",
       "      <td>226.983005</td>\n",
       "      <td>Intel Core i5</td>\n",
       "      <td>Intel</td>\n",
       "      <td>Mac</td>\n",
       "      <td>0</td>\n",
       "      <td>128</td>\n",
       "    </tr>\n",
       "    <tr>\n",
       "      <th>1</th>\n",
       "      <td>Apple</td>\n",
       "      <td>Ultrabook</td>\n",
       "      <td>8</td>\n",
       "      <td>1.34</td>\n",
       "      <td>47895.5232</td>\n",
       "      <td>0</td>\n",
       "      <td>0</td>\n",
       "      <td>127.677940</td>\n",
       "      <td>Intel Core i5</td>\n",
       "      <td>Intel</td>\n",
       "      <td>Mac</td>\n",
       "      <td>0</td>\n",
       "      <td>0</td>\n",
       "    </tr>\n",
       "    <tr>\n",
       "      <th>2</th>\n",
       "      <td>HP</td>\n",
       "      <td>Notebook</td>\n",
       "      <td>8</td>\n",
       "      <td>1.86</td>\n",
       "      <td>30636.0000</td>\n",
       "      <td>0</td>\n",
       "      <td>0</td>\n",
       "      <td>141.211998</td>\n",
       "      <td>Intel Core i5</td>\n",
       "      <td>Intel</td>\n",
       "      <td>Others/No OS/Linux</td>\n",
       "      <td>0</td>\n",
       "      <td>256</td>\n",
       "    </tr>\n",
       "    <tr>\n",
       "      <th>3</th>\n",
       "      <td>Apple</td>\n",
       "      <td>Ultrabook</td>\n",
       "      <td>16</td>\n",
       "      <td>1.83</td>\n",
       "      <td>135195.3360</td>\n",
       "      <td>0</td>\n",
       "      <td>1</td>\n",
       "      <td>220.534624</td>\n",
       "      <td>Intel Core i7</td>\n",
       "      <td>AMD</td>\n",
       "      <td>Mac</td>\n",
       "      <td>0</td>\n",
       "      <td>512</td>\n",
       "    </tr>\n",
       "    <tr>\n",
       "      <th>4</th>\n",
       "      <td>Apple</td>\n",
       "      <td>Ultrabook</td>\n",
       "      <td>8</td>\n",
       "      <td>1.37</td>\n",
       "      <td>96095.8080</td>\n",
       "      <td>0</td>\n",
       "      <td>1</td>\n",
       "      <td>226.983005</td>\n",
       "      <td>Intel Core i5</td>\n",
       "      <td>Intel</td>\n",
       "      <td>Mac</td>\n",
       "      <td>0</td>\n",
       "      <td>256</td>\n",
       "    </tr>\n",
       "  </tbody>\n",
       "</table>\n",
       "</div>"
      ],
      "text/plain": [
       "  Company   TypeName  Ram  Weight        Price  Touchscreen  Ips         ppi  \\\n",
       "0   Apple  Ultrabook    8    1.37   71378.6832            0    1  226.983005   \n",
       "1   Apple  Ultrabook    8    1.34   47895.5232            0    0  127.677940   \n",
       "2      HP   Notebook    8    1.86   30636.0000            0    0  141.211998   \n",
       "3   Apple  Ultrabook   16    1.83  135195.3360            0    1  220.534624   \n",
       "4   Apple  Ultrabook    8    1.37   96095.8080            0    1  226.983005   \n",
       "\n",
       "       Cpu brand Gpu brand                  os  HDD  SSD  \n",
       "0  Intel Core i5     Intel                 Mac    0  128  \n",
       "1  Intel Core i5     Intel                 Mac    0    0  \n",
       "2  Intel Core i5     Intel  Others/No OS/Linux    0  256  \n",
       "3  Intel Core i7       AMD                 Mac    0  512  \n",
       "4  Intel Core i5     Intel                 Mac    0  256  "
      ]
     },
     "execution_count": 59,
     "metadata": {},
     "output_type": "execute_result"
    }
   ],
   "source": [
    "df.head()"
   ]
  },
  {
   "cell_type": "markdown",
   "id": "8d0d5371-af77-4ddf-9a05-255366dad509",
   "metadata": {},
   "source": [
    "## Correlation Analysis"
   ]
  },
  {
   "cell_type": "code",
   "execution_count": 60,
   "id": "23f50064-886d-4f58-ba99-ac3b9f3eb0d2",
   "metadata": {},
   "outputs": [
    {
     "data": {
      "image/png": "[encoded data removed]",
      "text/plain": [
       "<Figure size 800x600 with 2 Axes>"
      ]
     },
     "metadata": {},
     "output_type": "display_data"
    }
   ],
   "source": [
    "# Select only numeric columns\n",
    "numeric_df = df.select_dtypes(include=['number'])\n",
    "\n",
    "# Calculate the correlation matrix\n",
    "correlation_matrix = numeric_df.corr()\n",
    "\n",
    "# Plot the Correlation Heatmap\n",
    "plt.figure(figsize=(8, 6))  # Set the size of the figure\n",
    "sns.heatmap(correlation_matrix, annot=True, cmap='coolwarm', fmt='.2f', linewidths=0.5)\n",
    "plt.title('Correlation Heatmap')\n",
    "plt.show()\n"
   ]
  },
  {
   "cell_type": "markdown",
   "id": "ca14f742-38e5-42a7-aeec-7e1f3317f19a",
   "metadata": {},
   "source": [
    "**Strong Positive Correlations:**\n",
    "\n",
    "`Ram and Price (0.74):` There is a strong positive correlation between the amount of RAM and the price of the laptop. As the RAM increases, the price also tends to increase. This suggests that RAM is a significant determinant of the laptop's cost.\n",
    "\n",
    "`SSD and Price (0.67):` Laptops with larger SSDs are priced higher. SSDs tend to be more expensive, so this makes sense.\n",
    "\n",
    "`Ram and SSD (0.60):` Laptops with more RAM tend to have larger SSD storage. This reflects the trend in modern laptops where high-performance machines often combine more RAM with SSDs for faster performance.\n",
    "\n",
    "`ppi and Price (0.48):` Laptops with higher pixel density (ppi) screens are generally more expensive, which indicates that display quality is also a cost driver.\n",
    "    \n",
    "**Weak or Moderate Correlations:**\n",
    "\n",
    "`Weight and SSD (0.51):` Laptops with SSDs tend to be lighter. SSDs are physically smaller and lighter compared to HDDs, which likely contributes to this relationship.\n",
    "\n",
    "`ppi and Touchscreen (0.46):` Laptops with touchscreens also tend to have higher pixel density, likely because touchscreen devices may require better display quality for a good user experience.\n",
    "\n",
    "`Touchscreen and Price (0.19):` There is a weak positive correlation between touchscreen and price, indicating that while touchscreens slightly increase the price, they are not a primary driver of cost.\n",
    "\n",
    "`HDD and Weight (0.51):` Laptops with HDDs tend to be heavier, which is understandable given that HDDs are bulkier compared to SSDs.\n",
    "    \n",
    "**Negative Correlations:**\n",
    "\n",
    "`Weight and ppi (-0.32):` Laptops with higher pixel density screens tend to be lighter. This might be due to modern, lightweight laptops focusing on high-resolution displays for better portability and user experience.\n",
    "\n",
    "`Weight and SSD (-0.06):` There is a slightly negative correlation, meaning lighter laptops tend to have SSDs over HDDs.\n",
    "    \n",
    "**No Significant Correlation:***\n",
    "\n",
    "`Touchscreen and Ram (0.12):` There is little correlation between the presence of a touchscreen and the amount of RAM, suggesting that RAM does not heavily impact whether or not a laptop has a touchscreen.\n",
    "\n",
    "`Ips (In-Plane Switching technology for displays) and Price (0.25):` While IPS screens are positively correlated with price, the correlation is weaker, indicating that this factor plays a less significant role in determining the price."
   ]
  },
  {
   "cell_type": "markdown",
   "id": "e9542eab-d897-4e9d-aa58-3a95baf46470",
   "metadata": {},
   "source": [
    "Laptops with high RAM, SSD, and higher ppi (display resolution) tend to be higher priced. This reflects market demand for performance and quality, with laptops combining these features commanding a premium price.\n",
    "\n",
    "Laptops that are lighter often have SSDs instead of HDDs and high-resolution displays (ppi). This indicates a trend toward portability, where consumers may prefer lighter, high-resolution machines over heavier ones with older technology like HDDs.\n",
    "\n",
    "While the heatmap doesn’t indicate severe multicollinearity, we should still check this in more detail to ensure robust model performance.RAM and SSD size are highly correlated with price, meaning these should be prioritized if cost is a primary factor in purchasing decisions."
   ]
  },
  {
   "cell_type": "markdown",
   "id": "1c0c54ab-b6b8-4648-b9a9-cecffe1f3b47",
   "metadata": {},
   "source": [
    "## Checking Multicollinearity"
   ]
  },
  {
   "cell_type": "code",
   "execution_count": 61,
   "id": "94136c44-655e-4ffd-aa7a-1fab573703f5",
   "metadata": {},
   "outputs": [
    {
     "name": "stdout",
     "output_type": "stream",
     "text": [
      "       Feature       VIF\n",
      "0          Ram  3.067345\n",
      "1       Weight  2.051582\n",
      "2        Price  2.996994\n",
      "3  Touchscreen  1.315171\n",
      "4          Ips  1.130486\n",
      "5          ppi  2.018742\n",
      "6          HDD  1.789804\n",
      "7          SSD  2.815358\n"
     ]
    }
   ],
   "source": [
    "# Import necessary libraries\n",
    "import pandas as pd\n",
    "from statsmodels.stats.outliers_influence import variance_inflation_factor\n",
    "from sklearn.preprocessing import StandardScaler\n",
    "\n",
    "# Assuming 'df' is your DataFrame containing the dataset\n",
    "# First, you should only select the numeric columns to calculate VIF\n",
    "\n",
    "# Example dataframe of numeric features\n",
    "numeric_columns = ['Ram', 'Weight', 'Price', 'Touchscreen', 'Ips', 'ppi', 'HDD', 'SSD']\n",
    "\n",
    "# Standardizing the features (VIF works better when features are scaled)\n",
    "scaler = StandardScaler()\n",
    "scaled_data = scaler.fit_transform(df[numeric_columns])\n",
    "\n",
    "# Create a new DataFrame with scaled data\n",
    "scaled_df = pd.DataFrame(scaled_data, columns=numeric_columns)\n",
    "\n",
    "# Calculate VIF for each feature\n",
    "vif_data = pd.DataFrame()\n",
    "vif_data[\"Feature\"] = scaled_df.columns\n",
    "vif_data[\"VIF\"] = [variance_inflation_factor(scaled_df.values, i) for i in range(scaled_df.shape[1])]\n",
    "\n",
    "# Display the VIF values\n",
    "print(vif_data)\n"
   ]
  },
  {
   "cell_type": "markdown",
   "id": "f2254ec0-1821-40f5-949a-ce28e2b61731",
   "metadata": {},
   "source": [
    "Since none of the VIF values exceed 5, multicollinearity doesn't seem to be a major problem in this dataset."
   ]
  },
  {
   "cell_type": "markdown",
   "id": "abe12a3c-4e19-43a0-9eb4-3627adb7a5bc",
   "metadata": {},
   "source": [
    "## Outliers"
   ]
  },
  {
   "cell_type": "code",
   "execution_count": 62,
   "id": "46557be9-9db9-4dc0-a163-c25ba8fa9b35",
   "metadata": {},
   "outputs": [
    {
     "name": "stdout",
     "output_type": "stream",
     "text": [
      "\n",
      "Rows containing outliers in column 'Ram':\n",
      "     Company            TypeName  Ram  Weight        Price  Touchscreen  Ips  \\\n",
      "3      Apple           Ultrabook   16    1.83  135195.3360            0    1   \n",
      "6      Apple           Ultrabook   16    2.04  114017.6016            0    1   \n",
      "8       Asus           Ultrabook   16    1.30   79653.6000            0    0   \n",
      "12     Apple           Ultrabook   16    1.83  130001.6016            0    1   \n",
      "17     Apple           Ultrabook   16    1.83  152274.2400            0    1   \n",
      "...      ...                 ...  ...     ...          ...          ...  ...   \n",
      "1247    Asus              Gaming   16    2.34  123876.0000            0    1   \n",
      "1256    Asus              Gaming   16    4.00  101232.0000            0    1   \n",
      "1271  Lenovo  2 in 1 Convertible   16    1.30   79866.7200            1    1   \n",
      "1285  Lenovo  2 in 1 Convertible   16    1.30   79866.7200            1    1   \n",
      "1299  Lenovo  2 in 1 Convertible   16    1.30   79866.7200            1    1   \n",
      "\n",
      "             ppi      Cpu brand Gpu brand       os   HDD  SSD  \n",
      "3     220.534624  Intel Core i7       AMD      Mac     0  512  \n",
      "6     220.534624  Intel Core i7     Intel      Mac     0    0  \n",
      "8     157.350512  Intel Core i7    Nvidia  Windows     0  512  \n",
      "12    220.534624  Intel Core i7       AMD      Mac     0  256  \n",
      "17    220.534624  Intel Core i7       AMD      Mac     0  512  \n",
      "...          ...            ...       ...      ...   ...  ...  \n",
      "1247  141.211998  Intel Core i7    Nvidia  Windows  1000  256  \n",
      "1256  127.335675  Intel Core i7    Nvidia  Windows  1000  128  \n",
      "1271  276.053530  Intel Core i7     Intel  Windows     0  512  \n",
      "1285  276.053530  Intel Core i7     Intel  Windows     0  512  \n",
      "1299  276.053530  Intel Core i7     Intel  Windows     0  512  \n",
      "\n",
      "[221 rows x 13 columns]\n",
      "\n",
      "Rows containing outliers in column 'Weight':\n",
      "     Company  TypeName  Ram  Weight        Price  Touchscreen  Ips  \\\n",
      "177      MSI    Gaming   32    4.40  149130.7200            0    0   \n",
      "224     Dell    Gaming   16    4.42  130873.7952            0    1   \n",
      "238     Asus    Gaming   32    4.70  207259.2000            0    0   \n",
      "247     Asus    Gaming   16    3.60  159786.7200            0    0   \n",
      "251     Asus    Gaming   16    4.30   95850.7200            0    0   \n",
      "258      MSI    Gaming   16    4.14  133146.7200            0    0   \n",
      "424     Dell    Gaming   16    4.42  149130.7200            0    1   \n",
      "456     Dell  Notebook    8    4.42  109010.8800            0    1   \n",
      "468       HP    Gaming   12    3.78   90522.7200            0    1   \n",
      "494     Asus    Gaming   24    4.33   67612.3200            1    1   \n",
      "530     Dell    Gaming   16    4.42  160520.3856            0    1   \n",
      "552     Dell    Gaming   16    4.42  143802.7200            0    1   \n",
      "577   Lenovo    Gaming   32    4.60  141884.6400            0    1   \n",
      "578      MSI    Gaming   16    4.14  145401.1200            0    0   \n",
      "585      MSI    Gaming   16    4.50  125154.7200            0    0   \n",
      "586       HP    Gaming   16    3.78   79813.4400            0    1   \n",
      "603      MSI    Gaming   16    4.14  117162.7200            0    0   \n",
      "650     Asus    Gaming   32    3.80  149130.7200            0    1   \n",
      "659     Dell    Gaming   32    4.42  167691.8736            0    1   \n",
      "723     Dell    Gaming   32    4.36  194972.8320            0    0   \n",
      "730     Acer    Gaming   16    4.20  103096.8000            0    1   \n",
      "758     Dell    Gaming   16    4.42  152859.7872            0    1   \n",
      "780     Dell    Gaming   32    4.42  191211.2640            0    1   \n",
      "781     Asus    Gaming   16    4.30  125208.0000            0    1   \n",
      "788     Acer    Gaming   16    4.20  122490.7200            0    1   \n",
      "810       HP    Gaming   12    3.74   93186.7200            0    1   \n",
      "818     Dell    Gaming   16    4.36  133467.4656            0    1   \n",
      "841     Dell    Gaming   32    4.42  163723.5792            0    1   \n",
      "901     Asus    Gaming   32    3.58   68145.1200            0    1   \n",
      "939     Dell    Gaming   16    4.36  146946.2400            0    0   \n",
      "955     Dell    Gaming   16    4.36  168045.1200            0    1   \n",
      "968     Dell    Gaming   32    4.42  167778.7200            0    1   \n",
      "972     Dell    Gaming   32    4.42  149184.0000            0    0   \n",
      "1047     MSI    Gaming   16    3.78   82351.6992            0    1   \n",
      "1048  Lenovo    Gaming   16    4.60  122010.6672            0    1   \n",
      "1061    Asus    Gaming   16    4.00   53173.4400            0    1   \n",
      "1066    Asus    Gaming   64    3.58  211788.0000            0    1   \n",
      "1077     MSI    Gaming   16    3.78  133146.7200            0    0   \n",
      "1081  Lenovo    Gaming   32    4.60  172627.2000            0    1   \n",
      "1099    Asus    Gaming   16    4.30  122490.7200            0    1   \n",
      "1116  Lenovo    Gaming   16    4.60  146519.4672            0    1   \n",
      "1119    Asus    Gaming    8    3.52   69929.4672            0    0   \n",
      "1138     MSI    Gaming   16    3.78  127818.7200            0    0   \n",
      "1189    Acer    Gaming   16    4.20  138474.7200            0    1   \n",
      "1197    Asus    Gaming   16    4.30  114552.0000            0    1   \n",
      "1256    Asus    Gaming   16    4.00  101232.0000            0    1   \n",
      "\n",
      "             ppi      Cpu brand Gpu brand                  os   HDD   SSD  \n",
      "177   119.723216  Intel Core i7    Nvidia             Windows  1000   512  \n",
      "224   127.335675  Intel Core i7    Nvidia             Windows  1000   256  \n",
      "238   127.335675  Intel Core i7    Nvidia             Windows  1000   512  \n",
      "247   127.335675  Intel Core i7    Nvidia             Windows     0   256  \n",
      "251   127.335675  Intel Core i7    Nvidia             Windows  1000   256  \n",
      "258   127.335675  Intel Core i7    Nvidia             Windows  1000   512  \n",
      "424   169.780899  Intel Core i7    Nvidia             Windows  1000   256  \n",
      "456   127.335675  Intel Core i7    Nvidia             Windows  1000     0  \n",
      "468   127.335675  Intel Core i7    Nvidia             Windows  1000     0  \n",
      "494   127.335675  Intel Core i7    Nvidia             Windows  1000   256  \n",
      "530   127.335675  Intel Core i7    Nvidia             Windows  1000   128  \n",
      "552   127.335675  Intel Core i7    Nvidia             Windows  1000   256  \n",
      "577   127.335675  Intel Core i7    Nvidia             Windows  1000   256  \n",
      "578   127.335675  Intel Core i7    Nvidia             Windows  1000   512  \n",
      "585   127.335675  Intel Core i7    Nvidia             Windows  1000   128  \n",
      "586   127.335675  Intel Core i7    Nvidia             Windows  1000   256  \n",
      "603   127.335675  Intel Core i7    Nvidia             Windows  1000   128  \n",
      "650   127.335675  Intel Core i7    Nvidia             Windows     0   512  \n",
      "659   254.671349  Intel Core i7    Nvidia             Windows  1000   512  \n",
      "723   254.671349  Intel Core i7    Nvidia             Windows  1000  1000  \n",
      "730   127.335675  Intel Core i7    Nvidia             Windows  1000   128  \n",
      "758   282.423996  Intel Core i7    Nvidia             Windows  1000   256  \n",
      "780   127.335675  Intel Core i7    Nvidia             Windows  1000  1000  \n",
      "781   127.335675  Intel Core i7    Nvidia             Windows  1000   256  \n",
      "788   127.335675  Intel Core i7    Nvidia             Windows  1000   256  \n",
      "810   127.335675  Intel Core i7       AMD             Windows  1000     0  \n",
      "818   127.335675  Intel Core i7    Nvidia             Windows  1000   128  \n",
      "841   127.335675  Intel Core i7    Nvidia             Windows  1000   512  \n",
      "901   127.335675  Intel Core i7    Nvidia             Windows     0   512  \n",
      "939   169.780899  Intel Core i7    Nvidia             Windows  1000   512  \n",
      "955   254.671349  Intel Core i7    Nvidia             Windows  1000   512  \n",
      "968   127.335675  Intel Core i7    Nvidia             Windows  1000   256  \n",
      "972   127.335675  Intel Core i7    Nvidia             Windows  1000   256  \n",
      "1047  127.335675  Intel Core i7    Nvidia             Windows  1000   256  \n",
      "1048  127.335675  Intel Core i7    Nvidia             Windows  1000   128  \n",
      "1061  127.335675  Intel Core i7    Nvidia  Others/No OS/Linux  1000     0  \n",
      "1066  127.335675  Intel Core i7    Nvidia             Windows     0  1000  \n",
      "1077  127.335675  Intel Core i7    Nvidia             Windows  1000   256  \n",
      "1081  127.335675  Intel Core i7    Nvidia             Windows     0   512  \n",
      "1099  127.335675  Intel Core i7    Nvidia             Windows  1000   128  \n",
      "1116  127.335675  Intel Core i7    Nvidia             Windows     0   256  \n",
      "1119  127.335675  Intel Core i7    Nvidia             Windows  1000   128  \n",
      "1138  127.335675  Intel Core i7    Nvidia             Windows  1000   256  \n",
      "1189  127.335675  Intel Core i7    Nvidia             Windows  1000   256  \n",
      "1197  127.335675  Intel Core i7    Nvidia             Windows  1000   512  \n",
      "1256  127.335675  Intel Core i7    Nvidia             Windows  1000   128  \n",
      "\n",
      "Rows containing outliers in column 'Price':\n",
      "     Company            TypeName  Ram  Weight        Price  Touchscreen  Ips  \\\n",
      "17     Apple           Ultrabook   16    1.83  152274.2400            0    1   \n",
      "190   Lenovo  2 in 1 Convertible   16    1.42  150462.7200            1    0   \n",
      "196    Razer              Gaming   32    3.49  324954.7200            1    0   \n",
      "204     Dell         Workstation   16    2.80  162770.4000            0    0   \n",
      "238     Asus              Gaming   32    4.70  207259.2000            0    0   \n",
      "247     Asus              Gaming   16    3.60  159786.7200            0    0   \n",
      "297     Dell         Workstation   16    3.42  153705.3408            0    0   \n",
      "517     Asus              Gaming   24    2.24  158135.0400            0    0   \n",
      "530     Dell              Gaming   16    4.42  160520.3856            0    1   \n",
      "563   Lenovo            Notebook    8    3.40  159786.7200            0    1   \n",
      "610   Lenovo            Notebook   32    2.50  261018.7200            0    1   \n",
      "659     Dell              Gaming   32    4.42  167691.8736            0    1   \n",
      "723     Dell              Gaming   32    4.36  194972.8320            0    0   \n",
      "744   Lenovo         Workstation   16    2.50  175770.7200            0    1   \n",
      "749       HP         Workstation   16    3.00  233845.9200            0    1   \n",
      "758     Dell              Gaming   16    4.42  152859.7872            0    1   \n",
      "778    Razer              Gaming   16    1.95  154458.7200            0    0   \n",
      "780     Dell              Gaming   32    4.42  191211.2640            0    1   \n",
      "830    Razer              Gaming   32    3.49  292986.7200            1    0   \n",
      "841     Dell              Gaming   32    4.42  163723.5792            0    1   \n",
      "911       HP           Ultrabook    8    1.09  165168.0000            1    0   \n",
      "955     Dell              Gaming   16    4.36  168045.1200            0    1   \n",
      "968     Dell              Gaming   32    4.42  167778.7200            0    1   \n",
      "1017  Lenovo            Notebook   16    2.40  158135.0400            0    1   \n",
      "1066    Asus              Gaming   64    3.58  211788.0000            0    1   \n",
      "1081  Lenovo              Gaming   32    4.60  172627.2000            0    1   \n",
      "1103      HP         Workstation    8    3.00  154458.7200            0    1   \n",
      "1136      HP         Workstation    8    3.00  210424.0320            0    1   \n",
      "1231   Razer              Gaming   16    1.95  186426.7200            0    0   \n",
      "\n",
      "             ppi              Cpu brand Gpu brand       os   HDD   SSD  \n",
      "17    220.534624          Intel Core i7       AMD      Mac     0   512  \n",
      "190   209.800683          Intel Core i7     Intel  Windows     0  1000  \n",
      "196   254.671349          Intel Core i7    Nvidia  Windows     0  1000  \n",
      "204   282.423996  Other Intel Processor    Nvidia  Windows  1000   256  \n",
      "238   127.335675          Intel Core i7    Nvidia  Windows  1000   512  \n",
      "247   127.335675          Intel Core i7    Nvidia  Windows     0   256  \n",
      "297   127.335675          Intel Core i7    Nvidia  Windows     0   256  \n",
      "517   141.211998          Intel Core i7    Nvidia  Windows     0   512  \n",
      "530   127.335675          Intel Core i7    Nvidia  Windows  1000   128  \n",
      "563   127.335675          Intel Core i7    Nvidia  Windows     0   256  \n",
      "610   282.423996  Other Intel Processor    Nvidia  Windows     0  1000  \n",
      "659   254.671349          Intel Core i7    Nvidia  Windows  1000   512  \n",
      "723   254.671349          Intel Core i7    Nvidia  Windows  1000  1000  \n",
      "744   282.423996          Intel Core i7    Nvidia  Windows     0  1000  \n",
      "749   127.335675  Other Intel Processor    Nvidia  Windows     0   256  \n",
      "758   282.423996          Intel Core i7    Nvidia  Windows  1000   256  \n",
      "778   157.350512          Intel Core i7    Nvidia  Windows     0   512  \n",
      "780   127.335675          Intel Core i7    Nvidia  Windows  1000  1000  \n",
      "830   254.671349          Intel Core i7    Nvidia  Windows     0   512  \n",
      "841   127.335675          Intel Core i7    Nvidia  Windows  1000   512  \n",
      "911   352.465147  Other Intel Processor     Intel  Windows     0   240  \n",
      "955   254.671349          Intel Core i7    Nvidia  Windows  1000   512  \n",
      "968   127.335675          Intel Core i7    Nvidia  Windows  1000   256  \n",
      "1017  254.671349          Intel Core i7    Nvidia  Windows     0   512  \n",
      "1066  127.335675          Intel Core i7    Nvidia  Windows     0  1000  \n",
      "1081  127.335675          Intel Core i7    Nvidia  Windows     0   512  \n",
      "1103  127.335675          Intel Core i7       AMD  Windows  1000     0  \n",
      "1136  127.335675          Intel Core i7    Nvidia  Windows     0   256  \n",
      "1231  157.350512          Intel Core i7    Nvidia  Windows     0  1000  \n",
      "\n",
      "Rows containing outliers in column 'Touchscreen':\n",
      "     Company            TypeName  Ram  Weight     Price  Touchscreen  Ips  \\\n",
      "19      Dell           Ultrabook    8    1.22  52161.12            1    1   \n",
      "23      Dell  2 in 1 Convertible    8    1.62  43636.32            1    0   \n",
      "33      Dell           Ultrabook   16    1.20  99580.32            1    0   \n",
      "44      Dell  2 in 1 Convertible   12    2.77  53226.72            1    0   \n",
      "50    Lenovo  2 in 1 Convertible    4    0.69  16996.32            1    1   \n",
      "...      ...                 ...  ...     ...       ...          ...  ...   \n",
      "1271  Lenovo  2 in 1 Convertible   16    1.30  79866.72            1    1   \n",
      "1284  Lenovo  2 in 1 Convertible    4    1.80  33992.64            1    1   \n",
      "1285  Lenovo  2 in 1 Convertible   16    1.30  79866.72            1    1   \n",
      "1298  Lenovo  2 in 1 Convertible    4    1.80  33992.64            1    1   \n",
      "1299  Lenovo  2 in 1 Convertible   16    1.30  79866.72            1    1   \n",
      "\n",
      "             ppi              Cpu brand Gpu brand                  os   HDD  \\\n",
      "19    165.632118          Intel Core i5     Intel             Windows     0   \n",
      "23    165.632118          Intel Core i5     Intel             Windows     0   \n",
      "33    276.053530          Intel Core i7     Intel             Windows     0   \n",
      "44    127.335675          Intel Core i5    Nvidia             Windows  1000   \n",
      "50    224.173809  Other Intel Processor     Intel  Others/No OS/Linux     0   \n",
      "...          ...                    ...       ...                 ...   ...   \n",
      "1271  276.053530          Intel Core i7     Intel             Windows     0   \n",
      "1284  157.350512          Intel Core i7     Intel             Windows     0   \n",
      "1285  276.053530          Intel Core i7     Intel             Windows     0   \n",
      "1298  157.350512          Intel Core i7     Intel             Windows     0   \n",
      "1299  276.053530          Intel Core i7     Intel             Windows     0   \n",
      "\n",
      "      SSD  \n",
      "19    128  \n",
      "23    256  \n",
      "33    512  \n",
      "44      0  \n",
      "50      0  \n",
      "...   ...  \n",
      "1271  512  \n",
      "1284  128  \n",
      "1285  512  \n",
      "1298  128  \n",
      "1299  512  \n",
      "\n",
      "[191 rows x 13 columns]\n",
      "\n",
      "Rows containing outliers in column 'Ips':\n",
      "No outliers detected.\n",
      "\n",
      "Rows containing outliers in column 'ppi':\n",
      "     Company            TypeName  Ram  Weight        Price  Touchscreen  Ips  \\\n",
      "0      Apple           Ultrabook    8    1.37   71378.6832            0    1   \n",
      "3      Apple           Ultrabook   16    1.83  135195.3360            0    1   \n",
      "4      Apple           Ultrabook    8    1.37   96095.8080            0    1   \n",
      "6      Apple           Ultrabook   16    2.04  114017.6016            0    1   \n",
      "12     Apple           Ultrabook   16    1.83  130001.6016            0    1   \n",
      "...      ...                 ...  ...     ...          ...          ...  ...   \n",
      "1236      HP           Ultrabook    8    1.54  117119.5632            0    0   \n",
      "1249    Dell  2 in 1 Convertible    8    1.24   96596.6400            1    0   \n",
      "1271  Lenovo  2 in 1 Convertible   16    1.30   79866.7200            1    1   \n",
      "1285  Lenovo  2 in 1 Convertible   16    1.30   79866.7200            1    1   \n",
      "1299  Lenovo  2 in 1 Convertible   16    1.30   79866.7200            1    1   \n",
      "\n",
      "             ppi      Cpu brand Gpu brand       os  HDD  SSD  \n",
      "0     226.983005  Intel Core i5     Intel      Mac    0  128  \n",
      "3     220.534624  Intel Core i7       AMD      Mac    0  512  \n",
      "4     226.983005  Intel Core i5     Intel      Mac    0  256  \n",
      "6     220.534624  Intel Core i7     Intel      Mac    0    0  \n",
      "12    220.534624  Intel Core i7       AMD      Mac    0  256  \n",
      "...          ...            ...       ...      ...  ...  ...  \n",
      "1236  209.800683  Intel Core i7     Intel  Windows    0  256  \n",
      "1249  276.053530  Intel Core i5     Intel  Windows    0  256  \n",
      "1271  276.053530  Intel Core i7     Intel  Windows    0  512  \n",
      "1285  276.053530  Intel Core i7     Intel  Windows    0  512  \n",
      "1299  276.053530  Intel Core i7     Intel  Windows    0  512  \n",
      "\n",
      "[115 rows x 13 columns]\n",
      "\n",
      "Rows containing outliers in column 'HDD':\n",
      "No outliers detected.\n",
      "\n",
      "Rows containing outliers in column 'SSD':\n",
      "     Company            TypeName  Ram  Weight        Price  Touchscreen  Ips  \\\n",
      "190   Lenovo  2 in 1 Convertible   16    1.42  150462.7200            1    0   \n",
      "196    Razer              Gaming   32    3.49  324954.7200            1    0   \n",
      "266     Asus  2 in 1 Convertible    8    1.10   79866.7200            1    0   \n",
      "311     Dell           Ultrabook   16    1.21  133146.7200            1    1   \n",
      "316       HP  2 in 1 Convertible   16    1.29  130482.7200            1    1   \n",
      "329     Dell            Notebook   32    2.06  140605.9200            1    0   \n",
      "347     Dell           Ultrabook   16    1.88   85672.1088            0    0   \n",
      "399   Lenovo           Ultrabook   16    1.13  139860.0000            0    1   \n",
      "497       HP            Notebook    8    1.48   93186.7200            0    0   \n",
      "610   Lenovo            Notebook   32    2.50  261018.7200            0    1   \n",
      "639     Dell            Notebook   16    2.06  127818.7200            1    0   \n",
      "723     Dell              Gaming   32    4.36  194972.8320            0    0   \n",
      "744   Lenovo         Workstation   16    2.50  175770.7200            0    1   \n",
      "780     Dell              Gaming   32    4.42  191211.2640            0    1   \n",
      "933   Lenovo  2 in 1 Convertible   16    1.30   95850.7200            1    1   \n",
      "1054    Dell           Ultrabook   16    1.20  120093.1200            1    0   \n",
      "1066    Asus              Gaming   64    3.58  211788.0000            0    1   \n",
      "1231   Razer              Gaming   16    1.95  186426.7200            0    0   \n",
      "\n",
      "             ppi              Cpu brand Gpu brand       os   HDD   SSD  \n",
      "190   209.800683          Intel Core i7     Intel  Windows     0  1000  \n",
      "196   254.671349          Intel Core i7    Nvidia  Windows     0  1000  \n",
      "266   165.632118          Intel Core i7     Intel  Windows     0  1024  \n",
      "311   331.264236          Intel Core i7     Intel  Windows     0  1000  \n",
      "316   331.264236          Intel Core i7     Intel  Windows     0  1000  \n",
      "329   282.423996          Intel Core i7    Nvidia  Windows     0  1000  \n",
      "347   141.211998          Intel Core i7     Intel  Windows     0   768  \n",
      "399   209.800683          Intel Core i7     Intel  Windows     0  1000  \n",
      "497   157.350512          Intel Core i7     Intel  Windows     0  1000  \n",
      "610   282.423996  Other Intel Processor    Nvidia  Windows     0  1000  \n",
      "639   282.423996          Intel Core i7    Nvidia  Windows     0  1000  \n",
      "723   254.671349          Intel Core i7    Nvidia  Windows  1000  1000  \n",
      "744   282.423996          Intel Core i7    Nvidia  Windows     0  1000  \n",
      "780   127.335675          Intel Core i7    Nvidia  Windows  1000  1000  \n",
      "933   276.053530          Intel Core i7     Intel  Windows     0  1000  \n",
      "1054  276.053530          Intel Core i7     Intel  Windows     0  1000  \n",
      "1066  127.335675          Intel Core i7    Nvidia  Windows     0  1000  \n",
      "1231  157.350512          Intel Core i7    Nvidia  Windows     0  1000  \n"
     ]
    }
   ],
   "source": [
    "import pandas as pd\n",
    "\n",
    "df_numeric = df[['Ram', 'Weight', 'Price', 'Touchscreen', 'Ips', 'ppi', 'HDD', 'SSD']]  # Select relevant numeric columns from the DataFrame\n",
    "\n",
    "# Step 2: Apply the IQR method for detecting outliers\n",
    "Q1 = df_numeric.quantile(0.25)\n",
    "Q3 = df_numeric.quantile(0.75)\n",
    "IQR = Q3 - Q1\n",
    "\n",
    "# Step 3: Detect outliers for each column separately\n",
    "for col in df_numeric.columns:\n",
    "    print(f\"\\nRows containing outliers in column '{col}':\")\n",
    "    # Define outlier condition for the current column\n",
    "    outlier_condition = (df_numeric[col] < (Q1[col] - 1.5 * IQR[col])) | (df_numeric[col] > (Q3[col] + 1.5 * IQR[col]))\n",
    "    \n",
    "    # Extract rows with outliers in the current column\n",
    "    outlier_rows = df[outlier_condition]\n",
    "    \n",
    "    # Print outlier rows if any exist\n",
    "    if not outlier_rows.empty:\n",
    "        print(outlier_rows)\n",
    "    else:\n",
    "        print(\"No outliers detected.\")\n"
   ]
  },
  {
   "cell_type": "code",
   "execution_count": 63,
   "id": "fdad427f-d574-4253-a7a1-a2c4cf203e94",
   "metadata": {},
   "outputs": [
    {
     "name": "stderr",
     "output_type": "stream",
     "text": [
      "C:\\Users\\freev\\AppData\\Local\\Temp\\ipykernel_4124\\3556049916.py:1: UserWarning: \n",
      "\n",
      "`distplot` is a deprecated function and will be removed in seaborn v0.14.0.\n",
      "\n",
      "Please adapt your code to use either `displot` (a figure-level function with\n",
      "similar flexibility) or `histplot` (an axes-level function for histograms).\n",
      "\n",
      "For a guide to updating your code to use the new functions, please see\n",
      "https://gist.github.com/mwaskom/de44147ed2974457ad6372750bbe5751\n",
      "\n",
      "  sns.distplot(np.log(df['Price']))\n"
     ]
    },
    {
     "data": {
      "text/plain": [
       "<Axes: xlabel='Price', ylabel='Density'>"
      ]
     },
     "execution_count": 63,
     "metadata": {},
     "output_type": "execute_result"
    },
    {
     "data": {
      "image/png": "[encoded data removed]",
      "text/plain": [
       "<Figure size 640x480 with 1 Axes>"
      ]
     },
     "metadata": {},
     "output_type": "display_data"
    }
   ],
   "source": [
    "sns.distplot(np.log(df['Price']))"
   ]
  },
  {
   "cell_type": "markdown",
   "id": "3b24390e-cad5-4a24-ac50-e4a8d3f9b20b",
   "metadata": {},
   "source": [
    "# Modelling"
   ]
  },
  {
   "cell_type": "markdown",
   "id": "fff4ea5a-fa99-4a98-bba7-9677dd96f19b",
   "metadata": {},
   "source": [
    "## Split the data"
   ]
  },
  {
   "cell_type": "code",
   "execution_count": 64,
   "id": "c2f21764-acdd-47d0-b08d-35c88cbba25c",
   "metadata": {},
   "outputs": [],
   "source": [
    "X = df.drop(columns=['Price'])\n",
    "y = np.log(df['Price'])"
   ]
  },
  {
   "cell_type": "code",
   "execution_count": 65,
   "id": "c47e644a-b693-4e31-bfee-9ff8e946cee3",
   "metadata": {},
   "outputs": [],
   "source": [
    "from sklearn.model_selection import train_test_split\n",
    "X_train,X_test,y_train,y_test = train_test_split(X,y,test_size=0.15,random_state=2)"
   ]
  },
  {
   "cell_type": "code",
   "execution_count": 79,
   "id": "15c76931-23c8-46cd-8912-7cd1c0ff0456",
   "metadata": {},
   "outputs": [],
   "source": [
    "from sklearn.compose import ColumnTransformer\n",
    "from sklearn.pipeline import Pipeline\n",
    "from sklearn.preprocessing import OneHotEncoder\n",
    "from sklearn.metrics import r2_score,mean_absolute_error\n",
    "\n",
    "from sklearn.linear_model import LinearRegression,Ridge,Lasso\n",
    "from sklearn.neighbors import KNeighborsRegressor\n",
    "from sklearn.tree import DecisionTreeRegressor\n",
    "from sklearn.ensemble import RandomForestRegressor,GradientBoostingRegressor,AdaBoostRegressor,ExtraTreesRegressor\n",
    "from sklearn.svm import SVR\n",
    "from xgboost import XGBRegressor\n",
    "from sklearn.ensemble import VotingRegressor\n",
    "from sklearn.ensemble import RandomForestRegressor, StackingRegressor"
   ]
  },
  {
   "cell_type": "markdown",
   "id": "5bb341b2-545e-404e-b7e6-bc57af5b9e17",
   "metadata": {},
   "source": [
    "## One Hot Encoding & Normalizing "
   ]
  },
  {
   "cell_type": "code",
   "execution_count": 67,
   "id": "786eabd4-6e35-43ba-b127-18731c7e57e3",
   "metadata": {},
   "outputs": [],
   "source": [
    "from sklearn.compose import ColumnTransformer\n",
    "from sklearn.preprocessing import OneHotEncoder, StandardScaler\n",
    "\n",
    "# List of categorical features\n",
    "categorical_features = ['Company', 'TypeName', 'Cpu brand', 'Gpu brand', 'os']\n",
    "\n",
    "# Define ColumnTransformer with OneHotEncoder for categorical features and StandardScaler for numerical features\n",
    "step1 = ColumnTransformer(\n",
    "    transformers=[\n",
    "        ('cat_tnf', OneHotEncoder(sparse_output=False, drop='first'), categorical_features),\n",
    "        ('num_tnf', StandardScaler(), ['Ram', 'Weight', 'Touchscreen', 'Ips', 'ppi', 'HDD', 'SSD'])  # Standardize numeric features\n",
    "    ],\n",
    "    remainder='passthrough'\n",
    ")\n"
   ]
  },
  {
   "cell_type": "markdown",
   "id": "e1ca31fb-6daf-4e53-b9e4-d243a7cd2e87",
   "metadata": {},
   "source": [
    "## Linear Regression"
   ]
  },
  {
   "cell_type": "code",
   "execution_count": 68,
   "id": "30514216-e8f5-450a-aeaa-ea7a59ecf9bb",
   "metadata": {},
   "outputs": [
    {
     "name": "stdout",
     "output_type": "stream",
     "text": [
      "R2 score: 0.807452955953007\n",
      "MAE: 0.20953335384794006\n"
     ]
    }
   ],
   "source": [
    "# Define Linear Regression Model\n",
    "step2 = LinearRegression()\n",
    "\n",
    "# Create the Pipeline\n",
    "lr = Pipeline([\n",
    "    ('step1', step1),\n",
    "    ('step2', step2)\n",
    "])\n",
    "\n",
    "# Fit the pipeline with training data\n",
    "lr.fit(X_train, y_train)\n",
    "\n",
    "# Predict the test set\n",
    "y_pred = lr.predict(X_test)\n",
    "\n",
    "# Evaluate the model\n",
    "print('R2 score:', r2_score(y_test, y_pred))\n",
    "print('MAE:', mean_absolute_error(y_test, y_pred))"
   ]
  },
  {
   "cell_type": "markdown",
   "id": "9e49c8c9-fa75-446b-bde8-16817164fde8",
   "metadata": {},
   "source": [
    "## Ridge Regression"
   ]
  },
  {
   "cell_type": "code",
   "execution_count": 69,
   "id": "e7f198c4-afeb-461d-a0b8-6043b59bf9fb",
   "metadata": {},
   "outputs": [
    {
     "name": "stdout",
     "output_type": "stream",
     "text": [
      "Ridge R2 score: 0.8093995078710143\n",
      "Ridge MAE: 0.2096542042345226\n"
     ]
    }
   ],
   "source": [
    "# Define Ridge Regression model\n",
    "ridge_model = Ridge()\n",
    "\n",
    "# Create the Pipeline\n",
    "ridge_pipe = Pipeline([\n",
    "    ('step1', step1),  # Use the same step1 from the previous example for preprocessing\n",
    "    ('step2', ridge_model)\n",
    "])\n",
    "\n",
    "# Fit and evaluate the model\n",
    "ridge_pipe.fit(X_train, y_train)\n",
    "y_pred_ridge = ridge_pipe.predict(X_test)\n",
    "\n",
    "print('Ridge R2 score:', r2_score(y_test, y_pred_ridge))\n",
    "print('Ridge MAE:', mean_absolute_error(y_test, y_pred_ridge))\n"
   ]
  },
  {
   "cell_type": "markdown",
   "id": "407c9d7d-f034-4b5d-8619-3bf77d3de75b",
   "metadata": {},
   "source": [
    "## Lasso Regression"
   ]
  },
  {
   "cell_type": "code",
   "execution_count": 70,
   "id": "2f033980-0a89-469e-b5da-118ddc1b9566",
   "metadata": {},
   "outputs": [
    {
     "name": "stdout",
     "output_type": "stream",
     "text": [
      "Lasso R2 score: -0.004410669401108347\n",
      "Lasso MAE: 0.5027070079762014\n"
     ]
    }
   ],
   "source": [
    "# Define Lasso Regression model\n",
    "lasso_model = Lasso()\n",
    "\n",
    "# Create the Pipeline\n",
    "lasso_pipe = Pipeline([\n",
    "    ('step1', step1),\n",
    "    ('step2', lasso_model)\n",
    "])\n",
    "\n",
    "# Fit and evaluate the model\n",
    "lasso_pipe.fit(X_train, y_train)\n",
    "y_pred_lasso = lasso_pipe.predict(X_test)\n",
    "\n",
    "print('Lasso R2 score:', r2_score(y_test, y_pred_lasso))\n",
    "print('Lasso MAE:', mean_absolute_error(y_test, y_pred_lasso))"
   ]
  },
  {
   "cell_type": "markdown",
   "id": "ae426b0a-a9fe-4b55-a51c-d09498dc5dce",
   "metadata": {},
   "source": [
    "## KNN"
   ]
  },
  {
   "cell_type": "code",
   "execution_count": 71,
   "id": "438e0517-bef8-4405-8109-957c1e4be9cd",
   "metadata": {},
   "outputs": [
    {
     "name": "stdout",
     "output_type": "stream",
     "text": [
      "KNN R2 score: 0.8408846467575076\n",
      "KNN MAE: 0.17987570089636074\n"
     ]
    }
   ],
   "source": [
    "# Define K-Nearest Neighbors model\n",
    "knn_model = KNeighborsRegressor(n_neighbors=5)  # You can adjust the number of neighbors\n",
    "\n",
    "# Create the Pipeline\n",
    "knn_pipe = Pipeline([\n",
    "    ('step1', step1),\n",
    "    ('step2', knn_model)\n",
    "])\n",
    "\n",
    "# Fit and evaluate the model\n",
    "knn_pipe.fit(X_train, y_train)\n",
    "y_pred_knn = knn_pipe.predict(X_test)\n",
    "\n",
    "print('KNN R2 score:', r2_score(y_test, y_pred_knn))\n",
    "print('KNN MAE:', mean_absolute_error(y_test, y_pred_knn))"
   ]
  },
  {
   "cell_type": "markdown",
   "id": "fb92a83c-87ed-44c1-992a-fef1c85788dc",
   "metadata": {},
   "source": [
    "## Decison Tree"
   ]
  },
  {
   "cell_type": "code",
   "execution_count": 72,
   "id": "6f363334-e562-4b1f-9a9b-cf27cad2a316",
   "metadata": {},
   "outputs": [
    {
     "name": "stdout",
     "output_type": "stream",
     "text": [
      "Decision Tree R2 score: 0.7834354503190992\n",
      "Decision Tree MAE: 0.20753028506481627\n"
     ]
    }
   ],
   "source": [
    "# Define Decision Tree model\n",
    "tree_model = DecisionTreeRegressor(random_state=42)\n",
    "\n",
    "# Create the Pipeline\n",
    "tree_pipe = Pipeline([\n",
    "    ('step1', step1),\n",
    "    ('step2', tree_model)\n",
    "])\n",
    "\n",
    "# Fit and evaluate the model\n",
    "tree_pipe.fit(X_train, y_train)\n",
    "y_pred_tree = tree_pipe.predict(X_test)\n",
    "\n",
    "print('Decision Tree R2 score:', r2_score(y_test, y_pred_tree))\n",
    "print('Decision Tree MAE:', mean_absolute_error(y_test, y_pred_tree))"
   ]
  },
  {
   "cell_type": "markdown",
   "id": "cbeadcad-f002-43cd-a877-765c9363470b",
   "metadata": {},
   "source": [
    "## SVM"
   ]
  },
  {
   "cell_type": "code",
   "execution_count": 73,
   "id": "ba293a16-710e-4b5f-94b6-d25126516127",
   "metadata": {},
   "outputs": [
    {
     "name": "stdout",
     "output_type": "stream",
     "text": [
      "SVM R2 score: 0.8855291177001197\n",
      "SVM MAE: 0.15982024328717423\n"
     ]
    }
   ],
   "source": [
    "# Define Support Vector Machine model\n",
    "svm_model = SVR(kernel='rbf')  # You can change the kernel to 'linear' or 'poly'\n",
    "\n",
    "# Create the Pipeline\n",
    "svm_pipe = Pipeline([\n",
    "    ('step1', step1),\n",
    "    ('step2', svm_model)\n",
    "])\n",
    "\n",
    "# Fit and evaluate the model\n",
    "svm_pipe.fit(X_train, y_train)\n",
    "y_pred_svm = svm_pipe.predict(X_test)\n",
    "\n",
    "print('SVM R2 score:', r2_score(y_test, y_pred_svm))\n",
    "print('SVM MAE:', mean_absolute_error(y_test, y_pred_svm))"
   ]
  },
  {
   "cell_type": "markdown",
   "id": "2d1a7ba4-91ff-4d7b-922c-028470a4e9b6",
   "metadata": {},
   "source": [
    "## Random Forest"
   ]
  },
  {
   "cell_type": "code",
   "execution_count": 74,
   "id": "ac82e140-1555-45c9-afd5-34a4d6942d31",
   "metadata": {},
   "outputs": [
    {
     "name": "stdout",
     "output_type": "stream",
     "text": [
      "Random Forest R2 score: 0.8862640967507117\n",
      "Random Forest MAE: 0.1558719085659208\n"
     ]
    }
   ],
   "source": [
    "from sklearn.ensemble import RandomForestRegressor\n",
    "from sklearn.pipeline import Pipeline\n",
    "from sklearn.metrics import r2_score, mean_absolute_error\n",
    "\n",
    "# Define Random Forest model\n",
    "rf_model = RandomForestRegressor()  \n",
    "\n",
    "# Create the Pipeline\n",
    "rf_pipe = Pipeline([\n",
    "    ('step1', step1),\n",
    "    ('step2', rf_model)\n",
    "])\n",
    "\n",
    "# Fit and evaluate the model\n",
    "rf_pipe.fit(X_train, y_train)\n",
    "y_pred_rf = rf_pipe.predict(X_test)\n",
    "\n",
    "print('Random Forest R2 score:', r2_score(y_test, y_pred_rf))\n",
    "print('Random Forest MAE:', mean_absolute_error(y_test, y_pred_rf))\n"
   ]
  },
  {
   "cell_type": "markdown",
   "id": "23f7f6a6-5f3b-4706-b453-99d7dd67973d",
   "metadata": {},
   "source": [
    "## Adaboost"
   ]
  },
  {
   "cell_type": "code",
   "execution_count": 75,
   "id": "36f20532-f400-4bd8-943d-1be0281b08e5",
   "metadata": {},
   "outputs": [
    {
     "name": "stdout",
     "output_type": "stream",
     "text": [
      "R2 score 0.807452955953007\n",
      "MAE 0.20953335384794006\n"
     ]
    }
   ],
   "source": [
    "ada_model = AdaBoostRegressor(n_estimators=15,learning_rate=1.0)\n",
    "\n",
    "ada_pipe = Pipeline([\n",
    "    ('step1',step1),\n",
    "    ('step2',step2)\n",
    "])\n",
    "\n",
    "ada_pipe.fit(X_train,y_train)\n",
    "\n",
    "y_pred_ada = ada_pipe.predict(X_test)\n",
    "\n",
    "print('R2 score',r2_score(y_test,y_pred))\n",
    "print('MAE',mean_absolute_error(y_test,y_pred))"
   ]
  },
  {
   "cell_type": "markdown",
   "id": "c2c9a29b-adec-40a5-bbe8-9c353bd7e319",
   "metadata": {},
   "source": [
    "## Gradient Boosting"
   ]
  },
  {
   "cell_type": "code",
   "execution_count": 76,
   "id": "3b666a4d-bdec-4ea7-809e-f3977f494c47",
   "metadata": {},
   "outputs": [
    {
     "name": "stdout",
     "output_type": "stream",
     "text": [
      "R2 score 0.807452955953007\n",
      "MAE 0.20953335384794006\n"
     ]
    }
   ],
   "source": [
    "gb_model = GradientBoostingRegressor(n_estimators=500)\n",
    "\n",
    "gb_pipe = Pipeline([\n",
    "    ('step1',step1),\n",
    "    ('step2',step2)\n",
    "])\n",
    "\n",
    "gb_pipe.fit(X_train,y_train)\n",
    "\n",
    "y_pred_gb = gb_pipe.predict(X_test)\n",
    "\n",
    "print('R2 score',r2_score(y_test,y_pred))\n",
    "print('MAE',mean_absolute_error(y_test,y_pred))"
   ]
  },
  {
   "cell_type": "markdown",
   "id": "d0148472-aed9-4498-b7a4-f0a065df1983",
   "metadata": {},
   "source": [
    "## XgBoost"
   ]
  },
  {
   "cell_type": "code",
   "execution_count": 77,
   "id": "67077b4a-0c80-4591-87e3-3d967d327d46",
   "metadata": {},
   "outputs": [
    {
     "name": "stdout",
     "output_type": "stream",
     "text": [
      "R2 score 0.807452955953007\n",
      "MAE 0.20953335384794006\n"
     ]
    }
   ],
   "source": [
    "xgb_model = XGBRegressor(n_estimators=45,max_depth=5,learning_rate=0.5)\n",
    "\n",
    "xgb = Pipeline([\n",
    "    ('step1',step1),\n",
    "    ('step2',step2)\n",
    "])\n",
    "\n",
    "xgb.fit(X_train,y_train)\n",
    "\n",
    "y_pred_xgb = xgb.predict(X_test)\n",
    "\n",
    "print('R2 score',r2_score(y_test,y_pred))\n",
    "print('MAE',mean_absolute_error(y_test,y_pred))"
   ]
  },
  {
   "cell_type": "markdown",
   "id": "6f9e901a-1e91-48da-93ca-9cd90c479ed9",
   "metadata": {},
   "source": [
    "## Voting Regressor"
   ]
  },
  {
   "cell_type": "code",
   "execution_count": 80,
   "id": "1fe563d0-5a2b-470e-8c49-c66c676dba77",
   "metadata": {},
   "outputs": [
    {
     "name": "stdout",
     "output_type": "stream",
     "text": [
      "R2 score: 0.8979207291293257\n",
      "MAE: 0.149831116236925\n"
     ]
    }
   ],
   "source": [
    "rf = RandomForestRegressor(n_estimators=350, random_state=3, max_samples=0.5, max_features=0.75, max_depth=15)\n",
    "svr = SVR(C=100, kernel='rbf', gamma='scale')\n",
    "\n",
    "# Voting Regressor: Including RandomForest and SVR\n",
    "step2 = VotingRegressor([('rf', rf), ('svr', svr)], weights=[1, 1])\n",
    "\n",
    "# Pipeline\n",
    "pipe_voting = Pipeline([\n",
    "    ('step1', step1),\n",
    "    ('step2', step2)\n",
    "])\n",
    "\n",
    "# Train the model\n",
    "pipe_voting.fit(X_train, y_train)\n",
    "\n",
    "# Make predictions\n",
    "y_pred = pipe_voting.predict(X_test)\n",
    "\n",
    "# Metrics\n",
    "print('R2 score:', r2_score(y_test, y_pred))\n",
    "print('MAE:', mean_absolute_error(y_test, y_pred))\n"
   ]
  },
  {
   "cell_type": "markdown",
   "id": "c373f7c6-81a9-42fd-ba73-fb60902cff2a",
   "metadata": {},
   "source": [
    "## Stacking"
   ]
  },
  {
   "cell_type": "code",
   "execution_count": 82,
   "id": "f423efda-9a36-416b-8fbf-a7f0a8911060",
   "metadata": {},
   "outputs": [
    {
     "name": "stdout",
     "output_type": "stream",
     "text": [
      "R2 score: 0.8888033308273803\n",
      "MAE: 0.15822551842243876\n"
     ]
    }
   ],
   "source": [
    "# Regressors\n",
    "rf = RandomForestRegressor(n_estimators=350, random_state=3, max_samples=0.5, max_features=0.75, max_depth=15)\n",
    "svr = SVR(C=100, kernel='rbf', gamma='scale')\n",
    "\n",
    "# Define the estimators for the Stacking Regressor\n",
    "estimators = [('rf', rf), ('svr', svr)]  # List of base regressors\n",
    "\n",
    "# Stacking Regressor with Ridge as the final estimator\n",
    "step2 = StackingRegressor(estimators=estimators, final_estimator=Ridge(alpha=100))\n",
    "\n",
    "# Pipeline\n",
    "pipe = Pipeline([\n",
    "    ('step1', step1),\n",
    "    ('step2', step2)\n",
    "])\n",
    "\n",
    "# Train the model\n",
    "pipe.fit(X_train, y_train)\n",
    "\n",
    "# Make predictions\n",
    "y_pred = pipe.predict(X_test)\n",
    "\n",
    "# Metrics\n",
    "print('R2 score:', r2_score(y_test, y_pred))\n",
    "print('MAE:', mean_absolute_error(y_test, y_pred))\n"
   ]
  },
  {
   "cell_type": "markdown",
   "id": "730f3ad9-7d63-403a-8f97-d7347d0f1d4b",
   "metadata": {},
   "source": [
    "## Exporting the model"
   ]
  },
  {
   "cell_type": "code",
   "execution_count": 83,
   "id": "3628df86-922e-4376-ad89-ee28892d049c",
   "metadata": {},
   "outputs": [],
   "source": [
    "import pickle\n",
    "\n",
    "pickle.dump(df,open('df.pkl','wb'))\n",
    "pickle.dump(pipe_voting,open('pipe_voting.pkl','wb'))"
   ]
  },
  {
   "cell_type": "code",
   "execution_count": 84,
   "id": "19ad2ce8-5b00-4cd5-b907-88279224491f",
   "metadata": {},
   "outputs": [
    {
     "data": {
      "text/html": [
       "<div>\n",
       "<style scoped>\n",
       "    .dataframe tbody tr th:only-of-type {\n",
       "        vertical-align: middle;\n",
       "    }\n",
       "\n",
       "    .dataframe tbody tr th {\n",
       "        vertical-align: top;\n",
       "    }\n",
       "\n",
       "    .dataframe thead th {\n",
       "        text-align: right;\n",
       "    }\n",
       "</style>\n",
       "<table border=\"1\" class=\"dataframe\">\n",
       "  <thead>\n",
       "    <tr style=\"text-align: right;\">\n",
       "      <th></th>\n",
       "      <th>Company</th>\n",
       "      <th>TypeName</th>\n",
       "      <th>Ram</th>\n",
       "      <th>Weight</th>\n",
       "      <th>Price</th>\n",
       "      <th>Touchscreen</th>\n",
       "      <th>Ips</th>\n",
       "      <th>ppi</th>\n",
       "      <th>Cpu brand</th>\n",
       "      <th>Gpu brand</th>\n",
       "      <th>os</th>\n",
       "      <th>HDD</th>\n",
       "      <th>SSD</th>\n",
       "    </tr>\n",
       "  </thead>\n",
       "  <tbody>\n",
       "    <tr>\n",
       "      <th>0</th>\n",
       "      <td>Apple</td>\n",
       "      <td>Ultrabook</td>\n",
       "      <td>8</td>\n",
       "      <td>1.37</td>\n",
       "      <td>71378.6832</td>\n",
       "      <td>0</td>\n",
       "      <td>1</td>\n",
       "      <td>226.983005</td>\n",
       "      <td>Intel Core i5</td>\n",
       "      <td>Intel</td>\n",
       "      <td>Mac</td>\n",
       "      <td>0</td>\n",
       "      <td>128</td>\n",
       "    </tr>\n",
       "    <tr>\n",
       "      <th>1</th>\n",
       "      <td>Apple</td>\n",
       "      <td>Ultrabook</td>\n",
       "      <td>8</td>\n",
       "      <td>1.34</td>\n",
       "      <td>47895.5232</td>\n",
       "      <td>0</td>\n",
       "      <td>0</td>\n",
       "      <td>127.677940</td>\n",
       "      <td>Intel Core i5</td>\n",
       "      <td>Intel</td>\n",
       "      <td>Mac</td>\n",
       "      <td>0</td>\n",
       "      <td>0</td>\n",
       "    </tr>\n",
       "    <tr>\n",
       "      <th>2</th>\n",
       "      <td>HP</td>\n",
       "      <td>Notebook</td>\n",
       "      <td>8</td>\n",
       "      <td>1.86</td>\n",
       "      <td>30636.0000</td>\n",
       "      <td>0</td>\n",
       "      <td>0</td>\n",
       "      <td>141.211998</td>\n",
       "      <td>Intel Core i5</td>\n",
       "      <td>Intel</td>\n",
       "      <td>Others/No OS/Linux</td>\n",
       "      <td>0</td>\n",
       "      <td>256</td>\n",
       "    </tr>\n",
       "    <tr>\n",
       "      <th>3</th>\n",
       "      <td>Apple</td>\n",
       "      <td>Ultrabook</td>\n",
       "      <td>16</td>\n",
       "      <td>1.83</td>\n",
       "      <td>135195.3360</td>\n",
       "      <td>0</td>\n",
       "      <td>1</td>\n",
       "      <td>220.534624</td>\n",
       "      <td>Intel Core i7</td>\n",
       "      <td>AMD</td>\n",
       "      <td>Mac</td>\n",
       "      <td>0</td>\n",
       "      <td>512</td>\n",
       "    </tr>\n",
       "    <tr>\n",
       "      <th>4</th>\n",
       "      <td>Apple</td>\n",
       "      <td>Ultrabook</td>\n",
       "      <td>8</td>\n",
       "      <td>1.37</td>\n",
       "      <td>96095.8080</td>\n",
       "      <td>0</td>\n",
       "      <td>1</td>\n",
       "      <td>226.983005</td>\n",
       "      <td>Intel Core i5</td>\n",
       "      <td>Intel</td>\n",
       "      <td>Mac</td>\n",
       "      <td>0</td>\n",
       "      <td>256</td>\n",
       "    </tr>\n",
       "    <tr>\n",
       "      <th>...</th>\n",
       "      <td>...</td>\n",
       "      <td>...</td>\n",
       "      <td>...</td>\n",
       "      <td>...</td>\n",
       "      <td>...</td>\n",
       "      <td>...</td>\n",
       "      <td>...</td>\n",
       "      <td>...</td>\n",
       "      <td>...</td>\n",
       "      <td>...</td>\n",
       "      <td>...</td>\n",
       "      <td>...</td>\n",
       "      <td>...</td>\n",
       "    </tr>\n",
       "    <tr>\n",
       "      <th>1298</th>\n",
       "      <td>Lenovo</td>\n",
       "      <td>2 in 1 Convertible</td>\n",
       "      <td>4</td>\n",
       "      <td>1.80</td>\n",
       "      <td>33992.6400</td>\n",
       "      <td>1</td>\n",
       "      <td>1</td>\n",
       "      <td>157.350512</td>\n",
       "      <td>Intel Core i7</td>\n",
       "      <td>Intel</td>\n",
       "      <td>Windows</td>\n",
       "      <td>0</td>\n",
       "      <td>128</td>\n",
       "    </tr>\n",
       "    <tr>\n",
       "      <th>1299</th>\n",
       "      <td>Lenovo</td>\n",
       "      <td>2 in 1 Convertible</td>\n",
       "      <td>16</td>\n",
       "      <td>1.30</td>\n",
       "      <td>79866.7200</td>\n",
       "      <td>1</td>\n",
       "      <td>1</td>\n",
       "      <td>276.053530</td>\n",
       "      <td>Intel Core i7</td>\n",
       "      <td>Intel</td>\n",
       "      <td>Windows</td>\n",
       "      <td>0</td>\n",
       "      <td>512</td>\n",
       "    </tr>\n",
       "    <tr>\n",
       "      <th>1300</th>\n",
       "      <td>Lenovo</td>\n",
       "      <td>Notebook</td>\n",
       "      <td>2</td>\n",
       "      <td>1.50</td>\n",
       "      <td>12201.1200</td>\n",
       "      <td>0</td>\n",
       "      <td>0</td>\n",
       "      <td>111.935204</td>\n",
       "      <td>Other Intel Processor</td>\n",
       "      <td>Intel</td>\n",
       "      <td>Windows</td>\n",
       "      <td>0</td>\n",
       "      <td>0</td>\n",
       "    </tr>\n",
       "    <tr>\n",
       "      <th>1301</th>\n",
       "      <td>HP</td>\n",
       "      <td>Notebook</td>\n",
       "      <td>6</td>\n",
       "      <td>2.19</td>\n",
       "      <td>40705.9200</td>\n",
       "      <td>0</td>\n",
       "      <td>0</td>\n",
       "      <td>100.454670</td>\n",
       "      <td>Intel Core i7</td>\n",
       "      <td>AMD</td>\n",
       "      <td>Windows</td>\n",
       "      <td>1000</td>\n",
       "      <td>0</td>\n",
       "    </tr>\n",
       "    <tr>\n",
       "      <th>1302</th>\n",
       "      <td>Asus</td>\n",
       "      <td>Notebook</td>\n",
       "      <td>4</td>\n",
       "      <td>2.20</td>\n",
       "      <td>19660.3200</td>\n",
       "      <td>0</td>\n",
       "      <td>0</td>\n",
       "      <td>100.454670</td>\n",
       "      <td>Other Intel Processor</td>\n",
       "      <td>Intel</td>\n",
       "      <td>Windows</td>\n",
       "      <td>500</td>\n",
       "      <td>0</td>\n",
       "    </tr>\n",
       "  </tbody>\n",
       "</table>\n",
       "<p>1302 rows × 13 columns</p>\n",
       "</div>"
      ],
      "text/plain": [
       "     Company            TypeName  Ram  Weight        Price  Touchscreen  Ips  \\\n",
       "0      Apple           Ultrabook    8    1.37   71378.6832            0    1   \n",
       "1      Apple           Ultrabook    8    1.34   47895.5232            0    0   \n",
       "2         HP            Notebook    8    1.86   30636.0000            0    0   \n",
       "3      Apple           Ultrabook   16    1.83  135195.3360            0    1   \n",
       "4      Apple           Ultrabook    8    1.37   96095.8080            0    1   \n",
       "...      ...                 ...  ...     ...          ...          ...  ...   \n",
       "1298  Lenovo  2 in 1 Convertible    4    1.80   33992.6400            1    1   \n",
       "1299  Lenovo  2 in 1 Convertible   16    1.30   79866.7200            1    1   \n",
       "1300  Lenovo            Notebook    2    1.50   12201.1200            0    0   \n",
       "1301      HP            Notebook    6    2.19   40705.9200            0    0   \n",
       "1302    Asus            Notebook    4    2.20   19660.3200            0    0   \n",
       "\n",
       "             ppi              Cpu brand Gpu brand                  os   HDD  \\\n",
       "0     226.983005          Intel Core i5     Intel                 Mac     0   \n",
       "1     127.677940          Intel Core i5     Intel                 Mac     0   \n",
       "2     141.211998          Intel Core i5     Intel  Others/No OS/Linux     0   \n",
       "3     220.534624          Intel Core i7       AMD                 Mac     0   \n",
       "4     226.983005          Intel Core i5     Intel                 Mac     0   \n",
       "...          ...                    ...       ...                 ...   ...   \n",
       "1298  157.350512          Intel Core i7     Intel             Windows     0   \n",
       "1299  276.053530          Intel Core i7     Intel             Windows     0   \n",
       "1300  111.935204  Other Intel Processor     Intel             Windows     0   \n",
       "1301  100.454670          Intel Core i7       AMD             Windows  1000   \n",
       "1302  100.454670  Other Intel Processor     Intel             Windows   500   \n",
       "\n",
       "      SSD  \n",
       "0     128  \n",
       "1       0  \n",
       "2     256  \n",
       "3     512  \n",
       "4     256  \n",
       "...   ...  \n",
       "1298  128  \n",
       "1299  512  \n",
       "1300    0  \n",
       "1301    0  \n",
       "1302    0  \n",
       "\n",
       "[1302 rows x 13 columns]"
      ]
     },
     "execution_count": 84,
     "metadata": {},
     "output_type": "execute_result"
    }
   ],
   "source": [
    "df"
   ]
  },
  {
   "cell_type": "code",
   "execution_count": null,
   "id": "c6e3d201-cf62-42db-9b7d-cc5ead22e51c",
   "metadata": {},
   "outputs": [],
   "source": []
  }
 ],
 "metadata": {
  "kernelspec": {
   "display_name": "Python 3 (ipykernel)",
   "language": "python",
   "name": "python3"
  },
  "language_info": {
   "codemirror_mode": {
    "name": "ipython",
    "version": 3
   },
   "file_extension": ".py",
   "mimetype": "text/x-python",
   "name": "python",
   "nbconvert_exporter": "python",
   "pygments_lexer": "ipython3",
   "version": "3.12.5"
  }
 },
 "nbformat": 4,
 "nbformat_minor": 5
}
